{
 "cells": [
  {
   "cell_type": "markdown",
   "metadata": {},
   "source": [
    "## Лабораторная работа по курсу «Python для анализа данных»"
   ]
  },
  {
   "cell_type": "markdown",
   "metadata": {},
   "source": [
    "### При выполнении работы допускается использование любых внешних модулей и пакетов. Готовые решения принимаются в виде ссылки на GitHub."
   ]
  },
  {
   "cell_type": "markdown",
   "metadata": {},
   "source": [
    "#### Задача 1"
   ]
  },
  {
   "cell_type": "markdown",
   "metadata": {},
   "source": [
    "Дана строка:"
   ]
  },
  {
   "cell_type": "code",
   "execution_count": 1,
   "metadata": {},
   "outputs": [],
   "source": [
    "string_01 = \"History is always written by the winners. hen two cultures clash, the loser is obliterated, and the winner writes the history books-books which glorify their own cause and disparage the conquered foe. As Napoleon once said, 'What is history, but a fable agreed upon?\""
   ]
  },
  {
   "cell_type": "markdown",
   "metadata": {},
   "source": [
    "1. Посчитайте, сколько в строке символов, исключая пробелы:"
   ]
  },
  {
   "cell_type": "code",
   "execution_count": 2,
   "metadata": {},
   "outputs": [
    {
     "name": "stdout",
     "output_type": "stream",
     "text": [
      "Количество символов без пробелов в строке 223\n"
     ]
    }
   ],
   "source": [
    "new_string = string_01.split(' ')\n",
    "print(f'Количество символов без пробелов в строке {sum(len(word) for word in new_string)}')"
   ]
  },
  {
   "cell_type": "markdown",
   "metadata": {},
   "source": [
    "2. Посчитайте, сколько в строке слов."
   ]
  },
  {
   "cell_type": "code",
   "execution_count": 3,
   "metadata": {},
   "outputs": [
    {
     "name": "stdout",
     "output_type": "stream",
     "text": [
      "['History', 'is', 'always', 'written', 'by', 'the', 'winners', 'hen', 'two', 'cultures', 'clash', 'the', 'loser', 'is', 'obliterated', 'and', 'the', 'winner', 'writes', 'the', 'history', 'books', 'books', 'which', 'glorify', 'their', 'own', 'cause', 'and', 'disparage', 'the', 'conquered', 'foe', 'As', 'Napoleon', 'once', 'said', 'What', 'is', 'history', 'but', 'a', 'fable', 'agreed', 'upon']\n",
      "Количество слов в строке 45\n"
     ]
    }
   ],
   "source": [
    "import re\n",
    "\n",
    "new_string_1 = re.findall(r'\\w+',string_01)\n",
    "print(new_string_1)\n",
    "print(f'Количество слов в строке {len(new_string_1)}')"
   ]
  },
  {
   "cell_type": "markdown",
   "metadata": {},
   "source": [
    "3. Напишите функцию, которая будет принимать в качестве аргумента букву и выводить все слова из строки, начинающиеся на эту букву (например, “w”)."
   ]
  },
  {
   "cell_type": "code",
   "execution_count": 4,
   "metadata": {},
   "outputs": [
    {
     "name": "stdout",
     "output_type": "stream",
     "text": [
      "['History', 'hen', 'history', 'history']\n"
     ]
    }
   ],
   "source": [
    "def find_words(letter):\n",
    "    words_list = []\n",
    "    [words_list.append(word) for word in new_string_1 if letter.capitalize() == word[0] or letter.lower() == word[0]]\n",
    "    print(words_list)\n",
    "    \n",
    "find_words('H')"
   ]
  },
  {
   "cell_type": "markdown",
   "metadata": {},
   "source": [
    "#### Задача 2"
   ]
  },
  {
   "cell_type": "markdown",
   "metadata": {},
   "source": [
    "Напишите код, который будет генерировать случайную последовательность из 6 цифр, одна из которых должна быть 3. Позиция цифры 3 должна\n",
    "определяться случайным образом. Результат должен быть строкой. Например: \"456309\" или \"330127\"."
   ]
  },
  {
   "cell_type": "code",
   "execution_count": 5,
   "metadata": {},
   "outputs": [
    {
     "name": "stdout",
     "output_type": "stream",
     "text": [
      "935759\n"
     ]
    }
   ],
   "source": [
    "import random\n",
    "\n",
    "number = ''\n",
    "while '3' not in number:\n",
    "    number = ''.join([str(random.randint(0,9)) for i in range(6)])\n",
    "print(number)"
   ]
  },
  {
   "cell_type": "markdown",
   "metadata": {},
   "source": [
    "#### Задача 3"
   ]
  },
  {
   "cell_type": "markdown",
   "metadata": {},
   "source": [
    "Дан список:"
   ]
  },
  {
   "cell_type": "code",
   "execution_count": 6,
   "metadata": {},
   "outputs": [],
   "source": [
    "list_01 = [1, 1, 2, 3, 5, 8, 13, 21, 34, 55, 89, 144, 233, 377, 610, 14, 46, 273, 22, 99, 15, 1000]"
   ]
  },
  {
   "cell_type": "markdown",
   "metadata": {},
   "source": [
    "Напишите алгоритм, который выводит сумму элементов списка, которые больше 10, но меньше 100, и которые больше 200, но меньше 500."
   ]
  },
  {
   "cell_type": "code",
   "execution_count": 7,
   "metadata": {},
   "outputs": [
    {
     "name": "stdout",
     "output_type": "stream",
     "text": [
      "Cумма элементов списка, которые больше 10, но меньше 100, и которые больше 200, но меньше 500: \n",
      "result = 1291\n"
     ]
    }
   ],
   "source": [
    "new_list = []\n",
    "result = sum([element for element in list_01 if  (10 < element < 100) or (200 < element < 500)])\n",
    "print(f'''Cумма элементов списка, которые больше 10, но меньше 100, и которые больше 200, но меньше 500: \n",
    "result = {result}''')"
   ]
  },
  {
   "cell_type": "markdown",
   "metadata": {},
   "source": [
    "#### Задача 4"
   ]
  },
  {
   "cell_type": "markdown",
   "metadata": {},
   "source": [
    "Данные студентов представлены в виде списка списков:"
   ]
  },
  {
   "cell_type": "code",
   "execution_count": 32,
   "metadata": {},
   "outputs": [],
   "source": [
    "students = [\n",
    "[\"0001\", \"Антонов\", \"Антон\", \"Игоревич\", \"20.08.2009\",\"БСТ161\"],\n",
    "[\"1102\", \"Богов\", \"Артем\", \"Игоревич\", \"25.01.2010\",\"БСТ162\"],\n",
    "[\"0333\", \"Глаголева\", \"Анастасия\", \"Николаевна\", \"11.07.2009\", \"БСТ163\"],\n",
    "[\"4004\", \"Степанова\", \"Наталья\", \"Александровна\", \"13.02.2008\", \"БСТ161\"],\n",
    "[\"0045\", \"Боков\", \"Игорь\", \"Харитонович\", \"02.06.2009\", \"БСТ161\"],\n",
    "[\"0096\", \"Васильков\", \"Валентин\", \"Сергеевич\", \"20.03.2009\", \"БСТ164\"],\n",
    "[\"0607\", \"Сиропова\", \"Виолетта\", \"Эдуардовна\", \"28.05.2010\", \"БСТ162\"]\n",
    "    ]"
   ]
  },
  {
   "cell_type": "markdown",
   "metadata": {},
   "source": [
    "1. Преобразуйте данные таким образом, чтобы они были представлены в виде словаря, в котором ключами являются номера студентов, а значениями — список из других данных о студентах."
   ]
  },
  {
   "cell_type": "code",
   "execution_count": 33,
   "metadata": {},
   "outputs": [
    {
     "name": "stdout",
     "output_type": "stream",
     "text": [
      "{'0001': ['Антонов', 'Антон', 'Игоревич', '20.08.2009', 'БСТ161'], '1102': ['Богов', 'Артем', 'Игоревич', '25.01.2010', 'БСТ162'], '0333': ['Глаголева', 'Анастасия', 'Николаевна', '11.07.2009', 'БСТ163'], '4004': ['Степанова', 'Наталья', 'Александровна', '13.02.2008', 'БСТ161'], '0045': ['Боков', 'Игорь', 'Харитонович', '02.06.2009', 'БСТ161'], '0096': ['Васильков', 'Валентин', 'Сергеевич', '20.03.2009', 'БСТ164'], '0607': ['Сиропова', 'Виолетта', 'Эдуардовна', '28.05.2010', 'БСТ162']}\n"
     ]
    }
   ],
   "source": [
    "students_dict = {}\n",
    "students_dict = {student[0]:student[1:] for student in students}\n",
    "print(students_dict)"
   ]
  },
  {
   "cell_type": "markdown",
   "metadata": {},
   "source": [
    "*Я бы сделал вложенный словарь для удобства работы с данными, в т.ч. для удобства и наглядности операций при внесении каких-то изменений ...*"
   ]
  },
  {
   "cell_type": "code",
   "execution_count": 52,
   "metadata": {},
   "outputs": [
    {
     "name": "stdout",
     "output_type": "stream",
     "text": [
      "{'0001': {'surname': 'Антонов', 'name': 'Антон', 'patronymic': 'Игоревич', 'birthday': '20.08.2009', 'class_number': 'БСТ161'}, '1102': {'surname': 'Богов', 'name': 'Артем', 'patronymic': 'Игоревич', 'birthday': '25.01.2010', 'class_number': 'БСТ162'}, '0333': {'surname': 'Глаголева', 'name': 'Анастасия', 'patronymic': 'Николаевна', 'birthday': '11.07.2009', 'class_number': 'БСТ163'}, '4004': {'surname': 'Степанова', 'name': 'Наталья', 'patronymic': 'Александровна', 'birthday': '13.02.2008', 'class_number': 'БСТ161'}, '0045': {'surname': 'Боков', 'name': 'Игорь', 'patronymic': 'Харитонович', 'birthday': '02.06.2009', 'class_number': 'БСТ161'}, '0096': {'surname': 'Васильков', 'name': 'Валентин', 'patronymic': 'Сергеевич', 'birthday': '20.03.2009', 'class_number': 'БСТ164'}, '0607': {'surname': 'Сиропова', 'name': 'Виолетта', 'patronymic': 'Эдуардовна', 'birthday': '28.05.2010', 'class_number': 'БСТ162'}}\n"
     ]
    }
   ],
   "source": [
    "students_dict = {}\n",
    "students_dict = {student[0]:student[1:] for student in students}\n",
    "student_keys = ['surname', 'name', 'patronymic', 'birthday', 'class_number']\n",
    "for student_number,personal_data in students_dict.items():\n",
    "    students_dict[student_number] = dict(zip(student_keys,personal_data))\n",
    "print(students_dict)"
   ]
  },
  {
   "cell_type": "markdown",
   "metadata": {},
   "source": [
    "2. Напишите функцию, которая принимает в качестве аргумента номер студента и новый номер группы и позволяет изменить номер группы этого студента на новый."
   ]
  },
  {
   "cell_type": "code",
   "execution_count": 51,
   "metadata": {},
   "outputs": [
    {
     "name": "stdout",
     "output_type": "stream",
     "text": [
      "{'0001': {'surname': 'Антонов', 'name': 'Антон', 'patronymic': 'Игоревич', 'birthday': '20.08.2009', 'class_number': 'БСТ161'}, '1102': {'surname': 'Богов', 'name': 'Артем', 'patronymic': 'Игоревич', 'birthday': '25.01.2010', 'class_number': 'БСТ162'}, '0333': {'surname': 'Глаголева', 'name': 'Анастасия', 'patronymic': 'Николаевна', 'birthday': '11.07.2009', 'class_number': 'БСТ163'}, '4004': {'surname': 'Степанова', 'name': 'Наталья', 'patronymic': 'Александровна', 'birthday': '13.02.2008', 'class_number': 'БСТ161'}, '0045': {'surname': 'Боков', 'name': 'Игорь', 'patronymic': 'Харитонович', 'birthday': '02.06.2009', 'class_number': 'БСТ161'}, '0096': {'surname': 'Васильков', 'name': 'Валентин', 'patronymic': 'Сергеевич', 'birthday': '20.03.2009', 'class_number': 'БСТ164'}, '0607': {'surname': 'Сиропова', 'name': 'Виолетта', 'patronymic': 'Эдуардовна', 'birthday': '28.05.2010', 'class_number': 'БСТ162'}}\n"
     ]
    }
   ],
   "source": [
    "def change_class(student_number, new_class_number):\n",
    "    if student_number in students_dict:\n",
    "        students_dict[student_number]['class_number'] = new_class_number\n",
    "    else:\n",
    "        print(f'Студента с номером {student_number} не найдено.')\n",
    "        \n",
    "class_changing('0001', 'БСТ161')\n",
    "print(students_dict)"
   ]
  },
  {
   "cell_type": "markdown",
   "metadata": {},
   "source": [
    "3. Напишите функцию, которая принимает номер группы и выводит список (фамилии, имена, отчества) всех студентов этой группы."
   ]
  },
  {
   "cell_type": "code",
   "execution_count": 50,
   "metadata": {},
   "outputs": [
    {
     "name": "stdout",
     "output_type": "stream",
     "text": [
      "Группа БСТ161:\n",
      "1. Антонов Антон Игоревич\n",
      "2. Степанова Наталья Александровна\n",
      "3. Боков Игорь Харитонович\n"
     ]
    }
   ],
   "source": [
    "def find_classmates(class_number):\n",
    "    print(f'Группа {class_number}:')\n",
    "    i = 1\n",
    "    for personal_data in students_dict.values(): \n",
    "        if personal_data['class_number'] == class_number:\n",
    "            print(f\"{i}. {personal_data['surname']} {personal_data['name']} {personal_data['patronymic']}\")\n",
    "            i += 1\n",
    "\n",
    "find_classmates('БСТ161')"
   ]
  },
  {
   "cell_type": "markdown",
   "metadata": {},
   "source": [
    "#### Задача 5"
   ]
  },
  {
   "cell_type": "markdown",
   "metadata": {},
   "source": [
    "Дана матрица:"
   ]
  },
  {
   "cell_type": "code",
   "execution_count": null,
   "metadata": {},
   "outputs": [],
   "source": [
    "matrix = [ \n",
    "    [0,1,2,4,8], \n",
    "    [6,2,2,1,9], \n",
    "    [3,3,3,3,3], \n",
    "    [4,6,7,1,2], \n",
    "    [5,7,3,4,0] \n",
    "]"
   ]
  },
  {
   "cell_type": "markdown",
   "metadata": {},
   "source": [
    "1. Выведите результат сложения всех элементов матрицы."
   ]
  },
  {
   "cell_type": "markdown",
   "metadata": {},
   "source": [
    "**Вариант 1**"
   ]
  },
  {
   "cell_type": "code",
   "execution_count": null,
   "metadata": {},
   "outputs": [],
   "source": [
    "print(f'Сумма элементов матрицы равна {sum([sum(row) for row in matrix])}')"
   ]
  },
  {
   "cell_type": "markdown",
   "metadata": {},
   "source": [
    "**Вариант 2**"
   ]
  },
  {
   "cell_type": "code",
   "execution_count": null,
   "metadata": {},
   "outputs": [],
   "source": [
    "import numpy as np\n",
    "print(f'Сумма элементов матрицы равна {np.sum(np.array(matrix))}')"
   ]
  },
  {
   "cell_type": "markdown",
   "metadata": {},
   "source": [
    "2. Напишите алгоритм вычисления максимума из сумм элементов каждого столбца."
   ]
  },
  {
   "cell_type": "code",
   "execution_count": null,
   "metadata": {},
   "outputs": [],
   "source": [
    "m = np.array(matrix)\n",
    "print(f'Максимум из сумм элементов каждого столбца равен {max([sum(m[:,j]) for j in range (m.shape[1])])}')"
   ]
  },
  {
   "cell_type": "code",
   "execution_count": null,
   "metadata": {},
   "outputs": [],
   "source": []
  }
 ],
 "metadata": {
  "kernelspec": {
   "display_name": "Python 3",
   "language": "python",
   "name": "python3"
  },
  "language_info": {
   "codemirror_mode": {
    "name": "ipython",
    "version": 3
   },
   "file_extension": ".py",
   "mimetype": "text/x-python",
   "name": "python",
   "nbconvert_exporter": "python",
   "pygments_lexer": "ipython3",
   "version": "3.7.6"
  }
 },
 "nbformat": 4,
 "nbformat_minor": 2
}
