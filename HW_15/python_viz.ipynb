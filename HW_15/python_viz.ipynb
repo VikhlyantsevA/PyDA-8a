{
 "cells": [
  {
   "cell_type": "markdown",
   "metadata": {},
   "source": [
    "## <center>Matplotlib"
   ]
  },
  {
   "cell_type": "code",
   "execution_count": 1,
   "metadata": {},
   "outputs": [],
   "source": [
    "from pylab import rcParams\n",
    "rcParams['figure.figsize'] = 12,7\n",
    "\n",
    "import pandas as pd\n",
    "import matplotlib.pyplot as plt"
   ]
  },
  {
   "cell_type": "code",
   "execution_count": 2,
   "metadata": {},
   "outputs": [
    {
     "name": "stdout",
     "output_type": "stream",
     "text": [
      "(3922, 8)\n"
     ]
    }
   ],
   "source": [
    "df = pd.read_csv('players.csv')\n",
    "print(df.shape)"
   ]
  },
  {
   "cell_type": "code",
   "execution_count": 3,
   "metadata": {},
   "outputs": [
    {
     "name": "stdout",
     "output_type": "stream",
     "text": [
      "<class 'pandas.core.frame.DataFrame'>\n",
      "RangeIndex: 3922 entries, 0 to 3921\n",
      "Data columns (total 8 columns):\n",
      " #   Column       Non-Null Count  Dtype  \n",
      "---  ------       --------------  -----  \n",
      " 0   Unnamed: 0   3922 non-null   int64  \n",
      " 1   Player       3921 non-null   object \n",
      " 2   height       3921 non-null   float64\n",
      " 3   weight       3921 non-null   float64\n",
      " 4   collage      3573 non-null   object \n",
      " 5   born         3921 non-null   float64\n",
      " 6   birth_city   3452 non-null   object \n",
      " 7   birth_state  3439 non-null   object \n",
      "dtypes: float64(3), int64(1), object(4)\n",
      "memory usage: 245.2+ KB\n"
     ]
    }
   ],
   "source": [
    "df.info()"
   ]
  },
  {
   "cell_type": "code",
   "execution_count": 4,
   "metadata": {},
   "outputs": [
    {
     "data": {
      "text/plain": [
       "True"
      ]
     },
     "execution_count": 4,
     "metadata": {},
     "output_type": "execute_result"
    }
   ],
   "source": [
    "df = df.dropna()\n",
    "#Проверка на повторение данных\n",
    "len(df.Player.unique()) == df.shape[0]"
   ]
  },
  {
   "cell_type": "code",
   "execution_count": 5,
   "metadata": {},
   "outputs": [
    {
     "data": {
      "text/html": [
       "<div>\n",
       "<style scoped>\n",
       "    .dataframe tbody tr th:only-of-type {\n",
       "        vertical-align: middle;\n",
       "    }\n",
       "\n",
       "    .dataframe tbody tr th {\n",
       "        vertical-align: top;\n",
       "    }\n",
       "\n",
       "    .dataframe thead th {\n",
       "        text-align: right;\n",
       "    }\n",
       "</style>\n",
       "<table border=\"1\" class=\"dataframe\">\n",
       "  <thead>\n",
       "    <tr style=\"text-align: right;\">\n",
       "      <th></th>\n",
       "      <th>Unnamed: 0</th>\n",
       "      <th>Player</th>\n",
       "      <th>height</th>\n",
       "      <th>weight</th>\n",
       "      <th>collage</th>\n",
       "      <th>born</th>\n",
       "      <th>birth_city</th>\n",
       "      <th>birth_state</th>\n",
       "    </tr>\n",
       "  </thead>\n",
       "  <tbody>\n",
       "    <tr>\n",
       "      <th>1</th>\n",
       "      <td>1</td>\n",
       "      <td>Cliff Barker</td>\n",
       "      <td>188.0</td>\n",
       "      <td>83.0</td>\n",
       "      <td>University of Kentucky</td>\n",
       "      <td>1921</td>\n",
       "      <td>Yorktown</td>\n",
       "      <td>Indiana</td>\n",
       "    </tr>\n",
       "    <tr>\n",
       "      <th>4</th>\n",
       "      <td>4</td>\n",
       "      <td>Ralph Beard</td>\n",
       "      <td>178.0</td>\n",
       "      <td>79.0</td>\n",
       "      <td>University of Kentucky</td>\n",
       "      <td>1927</td>\n",
       "      <td>Hardinsburg</td>\n",
       "      <td>Kentucky</td>\n",
       "    </tr>\n",
       "    <tr>\n",
       "      <th>6</th>\n",
       "      <td>6</td>\n",
       "      <td>Charlie Black</td>\n",
       "      <td>196.0</td>\n",
       "      <td>90.0</td>\n",
       "      <td>University of Kansas</td>\n",
       "      <td>1921</td>\n",
       "      <td>Arco</td>\n",
       "      <td>Idaho</td>\n",
       "    </tr>\n",
       "    <tr>\n",
       "      <th>7</th>\n",
       "      <td>7</td>\n",
       "      <td>Nelson Bobb</td>\n",
       "      <td>183.0</td>\n",
       "      <td>77.0</td>\n",
       "      <td>Temple University</td>\n",
       "      <td>1924</td>\n",
       "      <td>Philadelphia</td>\n",
       "      <td>Pennsylvania</td>\n",
       "    </tr>\n",
       "    <tr>\n",
       "      <th>8</th>\n",
       "      <td>8</td>\n",
       "      <td>Jake Bornheimer</td>\n",
       "      <td>196.0</td>\n",
       "      <td>90.0</td>\n",
       "      <td>Muhlenberg College</td>\n",
       "      <td>1927</td>\n",
       "      <td>New Brunswick</td>\n",
       "      <td>New Jersey</td>\n",
       "    </tr>\n",
       "  </tbody>\n",
       "</table>\n",
       "</div>"
      ],
      "text/plain": [
       "   Unnamed: 0           Player  height  weight                 collage  born  \\\n",
       "1           1     Cliff Barker   188.0    83.0  University of Kentucky  1921   \n",
       "4           4      Ralph Beard   178.0    79.0  University of Kentucky  1927   \n",
       "6           6    Charlie Black   196.0    90.0    University of Kansas  1921   \n",
       "7           7      Nelson Bobb   183.0    77.0       Temple University  1924   \n",
       "8           8  Jake Bornheimer   196.0    90.0      Muhlenberg College  1927   \n",
       "\n",
       "      birth_city   birth_state  \n",
       "1       Yorktown       Indiana  \n",
       "4    Hardinsburg      Kentucky  \n",
       "6           Arco         Idaho  \n",
       "7   Philadelphia  Pennsylvania  \n",
       "8  New Brunswick    New Jersey  "
      ]
     },
     "execution_count": 5,
     "metadata": {},
     "output_type": "execute_result"
    }
   ],
   "source": [
    "df['born'] = df.born.astype('int64')\n",
    "df.head()"
   ]
  },
  {
   "cell_type": "code",
   "execution_count": 6,
   "metadata": {},
   "outputs": [],
   "source": [
    "def find_weight_category(mass_index):\n",
    "    if mass_index < 18.5:\n",
    "        return 'дефицит массы тела'\n",
    "    elif mass_index > 25.0:\n",
    "        return 'избыточная масса тела'\n",
    "    return 'норма'\n",
    "        "
   ]
  },
  {
   "cell_type": "code",
   "execution_count": 7,
   "metadata": {
    "scrolled": true
   },
   "outputs": [
    {
     "data": {
      "text/html": [
       "<div>\n",
       "<style scoped>\n",
       "    .dataframe tbody tr th:only-of-type {\n",
       "        vertical-align: middle;\n",
       "    }\n",
       "\n",
       "    .dataframe tbody tr th {\n",
       "        vertical-align: top;\n",
       "    }\n",
       "\n",
       "    .dataframe thead th {\n",
       "        text-align: right;\n",
       "    }\n",
       "</style>\n",
       "<table border=\"1\" class=\"dataframe\">\n",
       "  <thead>\n",
       "    <tr style=\"text-align: right;\">\n",
       "      <th></th>\n",
       "      <th>Player</th>\n",
       "      <th>height</th>\n",
       "      <th>weight</th>\n",
       "      <th>collage</th>\n",
       "      <th>born</th>\n",
       "      <th>birth_city</th>\n",
       "      <th>birth_state</th>\n",
       "      <th>mass_index</th>\n",
       "      <th>weight_categoty</th>\n",
       "    </tr>\n",
       "  </thead>\n",
       "  <tbody>\n",
       "    <tr>\n",
       "      <th>1</th>\n",
       "      <td>Cliff Barker</td>\n",
       "      <td>188.0</td>\n",
       "      <td>83.0</td>\n",
       "      <td>University of Kentucky</td>\n",
       "      <td>1921</td>\n",
       "      <td>Yorktown</td>\n",
       "      <td>Indiana</td>\n",
       "      <td>23.48</td>\n",
       "      <td>норма</td>\n",
       "    </tr>\n",
       "    <tr>\n",
       "      <th>4</th>\n",
       "      <td>Ralph Beard</td>\n",
       "      <td>178.0</td>\n",
       "      <td>79.0</td>\n",
       "      <td>University of Kentucky</td>\n",
       "      <td>1927</td>\n",
       "      <td>Hardinsburg</td>\n",
       "      <td>Kentucky</td>\n",
       "      <td>24.93</td>\n",
       "      <td>норма</td>\n",
       "    </tr>\n",
       "    <tr>\n",
       "      <th>6</th>\n",
       "      <td>Charlie Black</td>\n",
       "      <td>196.0</td>\n",
       "      <td>90.0</td>\n",
       "      <td>University of Kansas</td>\n",
       "      <td>1921</td>\n",
       "      <td>Arco</td>\n",
       "      <td>Idaho</td>\n",
       "      <td>23.43</td>\n",
       "      <td>норма</td>\n",
       "    </tr>\n",
       "    <tr>\n",
       "      <th>7</th>\n",
       "      <td>Nelson Bobb</td>\n",
       "      <td>183.0</td>\n",
       "      <td>77.0</td>\n",
       "      <td>Temple University</td>\n",
       "      <td>1924</td>\n",
       "      <td>Philadelphia</td>\n",
       "      <td>Pennsylvania</td>\n",
       "      <td>22.99</td>\n",
       "      <td>норма</td>\n",
       "    </tr>\n",
       "    <tr>\n",
       "      <th>8</th>\n",
       "      <td>Jake Bornheimer</td>\n",
       "      <td>196.0</td>\n",
       "      <td>90.0</td>\n",
       "      <td>Muhlenberg College</td>\n",
       "      <td>1927</td>\n",
       "      <td>New Brunswick</td>\n",
       "      <td>New Jersey</td>\n",
       "      <td>23.43</td>\n",
       "      <td>норма</td>\n",
       "    </tr>\n",
       "  </tbody>\n",
       "</table>\n",
       "</div>"
      ],
      "text/plain": [
       "            Player  height  weight                 collage  born  \\\n",
       "1     Cliff Barker   188.0    83.0  University of Kentucky  1921   \n",
       "4      Ralph Beard   178.0    79.0  University of Kentucky  1927   \n",
       "6    Charlie Black   196.0    90.0    University of Kansas  1921   \n",
       "7      Nelson Bobb   183.0    77.0       Temple University  1924   \n",
       "8  Jake Bornheimer   196.0    90.0      Muhlenberg College  1927   \n",
       "\n",
       "      birth_city   birth_state  mass_index weight_categoty  \n",
       "1       Yorktown       Indiana       23.48           норма  \n",
       "4    Hardinsburg      Kentucky       24.93           норма  \n",
       "6           Arco         Idaho       23.43           норма  \n",
       "7   Philadelphia  Pennsylvania       22.99           норма  \n",
       "8  New Brunswick    New Jersey       23.43           норма  "
      ]
     },
     "execution_count": 7,
     "metadata": {},
     "output_type": "execute_result"
    }
   ],
   "source": [
    "# Уберём столбец Unnamed:0\n",
    "df_1 = df.iloc[ : ,1 : ]\n",
    "#Добавим столбцы с индексом массы тела и весовой категорией\n",
    "df_1.loc[ : ,'mass_index'] = round(df_1.weight / (0.01 * df_1.height) ** 2, 2)\n",
    "df_1['weight_categoty'] = df_1.mass_index.apply(find_weight_category)\n",
    "df_1.head()"
   ]
  },
  {
   "cell_type": "markdown",
   "metadata": {},
   "source": [
    "### 1. Посмотрим на распределение игроков по дате рождения"
   ]
  },
  {
   "cell_type": "code",
   "execution_count": 8,
   "metadata": {
    "scrolled": true
   },
   "outputs": [
    {
     "data": {
      "text/plain": [
       "Text(0, 0.5, 'players')"
      ]
     },
     "execution_count": 8,
     "metadata": {},
     "output_type": "execute_result"
    },
    {
     "data": {
      "image/png": "[encoded data removed]",
      "text/plain": [
       "<Figure size 864x504 with 1 Axes>"
      ]
     },
     "metadata": {
      "needs_background": "light"
     },
     "output_type": "display_data"
    }
   ],
   "source": [
    "ax = df_1.born.hist(bins=30)\n",
    "ax.set_title('birth date distribution', fontsize=14)\n",
    "ax.set_xlabel('birth date', fontsize=14)\n",
    "ax.set_ylabel('players', fontsize=14)"
   ]
  },
  {
   "cell_type": "markdown",
   "metadata": {},
   "source": [
    "Больше всего игроков __`1960`__ года. Не хватает свежей статистики по молодёжи. Это было бы более актуальной информацией."
   ]
  },
  {
   "cell_type": "markdown",
   "metadata": {},
   "source": [
    "### 2. Оценим количество игроков с избыточным весом и весом ниже нормы. Насколько сидячий образ жизни влияет на этот показатель?"
   ]
  },
  {
   "cell_type": "code",
   "execution_count": 9,
   "metadata": {
    "scrolled": true
   },
   "outputs": [
    {
     "data": {
      "text/plain": [
       "норма                    0.782377\n",
       "избыточная масса тела    0.217310\n",
       "дефицит массы тела       0.000314\n",
       "Name: weight_categoty, dtype: float64"
      ]
     },
     "execution_count": 9,
     "metadata": {},
     "output_type": "execute_result"
    }
   ],
   "source": [
    "players_weight_stat = df_1.weight_categoty.value_counts(normalize=True)\n",
    "players_weight_stat.head()"
   ]
  },
  {
   "cell_type": "markdown",
   "metadata": {},
   "source": [
    "*__`Не знаю как исключить из этого графика людей с дефицитом массы тела?`__*"
   ]
  },
  {
   "cell_type": "code",
   "execution_count": 10,
   "metadata": {},
   "outputs": [
    {
     "data": {
      "image/png": "[encoded data removed]",
      "text/plain": [
       "<Figure size 864x504 with 1 Axes>"
      ]
     },
     "metadata": {
      "needs_background": "light"
     },
     "output_type": "display_data"
    }
   ],
   "source": [
    "players_weight_stat.plot(kind='bar', rot=0)\n",
    "plt.xlabel('number of overweight players', fontsize=14)\n",
    "plt.ylabel('birth_state', fontsize=14)\n",
    "plt.savefig('players_weight_stat.png')"
   ]
  },
  {
   "cell_type": "markdown",
   "metadata": {},
   "source": [
    "Данный пример демонстрирует, что сидячий образ жизни и работа (времяпрепровождение за компьютером) далеко не всегда приводит к ожирению. Согласно статистике лишь около __`21,7%`__ компьютерных игроков имеют проблеммы с лишним весом. Дефицит массы тела из-за недостатка физической активности или нерегулярного питания у игроков наблюдался в единичных случаях (около __`0,03%`__)."
   ]
  },
  {
   "cell_type": "markdown",
   "metadata": {},
   "source": [
    "**То же самое, но в другом виде.**"
   ]
  },
  {
   "cell_type": "code",
   "execution_count": 11,
   "metadata": {},
   "outputs": [
    {
     "data": {
      "text/html": [
       "<style  type=\"text/css\" >\n",
       "    #T_8c7dbeac_9907_11ea_b7db_001986001bb5row0_col0 {\n",
       "            width:  10em;\n",
       "             height:  80%;\n",
       "            background:  linear-gradient(90deg,#d65f5f 100.0%, transparent 100.0%);\n",
       "        }    #T_8c7dbeac_9907_11ea_b7db_001986001bb5row1_col0 {\n",
       "            width:  10em;\n",
       "             height:  80%;\n",
       "            background:  linear-gradient(90deg,#d65f5f 27.7%, transparent 27.7%);\n",
       "        }    #T_8c7dbeac_9907_11ea_b7db_001986001bb5row2_col0 {\n",
       "            width:  10em;\n",
       "             height:  80%;\n",
       "        }</style><table id=\"T_8c7dbeac_9907_11ea_b7db_001986001bb5\" ><thead>    <tr>        <th class=\"blank level0\" ></th>        <th class=\"col_heading level0 col0\" >mass_categories_rate</th>    </tr>    <tr>        <th class=\"index_name level0\" >weight_categoty</th>        <th class=\"blank\" ></th>    </tr></thead><tbody>\n",
       "                <tr>\n",
       "                        <th id=\"T_8c7dbeac_9907_11ea_b7db_001986001bb5level0_row0\" class=\"row_heading level0 row0\" >норма</th>\n",
       "                        <td id=\"T_8c7dbeac_9907_11ea_b7db_001986001bb5row0_col0\" class=\"data row0 col0\" >78.237692</td>\n",
       "            </tr>\n",
       "            <tr>\n",
       "                        <th id=\"T_8c7dbeac_9907_11ea_b7db_001986001bb5level0_row1\" class=\"row_heading level0 row1\" >избыточная масса тела</th>\n",
       "                        <td id=\"T_8c7dbeac_9907_11ea_b7db_001986001bb5row1_col0\" class=\"data row1 col0\" >21.730950</td>\n",
       "            </tr>\n",
       "            <tr>\n",
       "                        <th id=\"T_8c7dbeac_9907_11ea_b7db_001986001bb5level0_row2\" class=\"row_heading level0 row2\" >дефицит массы тела</th>\n",
       "                        <td id=\"T_8c7dbeac_9907_11ea_b7db_001986001bb5row2_col0\" class=\"data row2 col0\" >0.031358</td>\n",
       "            </tr>\n",
       "    </tbody></table>"
      ],
      "text/plain": [
       "<pandas.io.formats.style.Styler at 0x22d49cf5288>"
      ]
     },
     "execution_count": 11,
     "metadata": {},
     "output_type": "execute_result"
    }
   ],
   "source": [
    "players_weight_stat = df_1.groupby('weight_categoty').count().sort_values('Player', ascending=False)\n",
    "players_weight_stat['mass_categories_rate'] = 100*players_weight_stat.Player/players_weight_stat.Player.sum()\n",
    "players_weight_stat[['mass_categories_rate']].style.bar()"
   ]
  },
  {
   "cell_type": "markdown",
   "metadata": {},
   "source": [
    "### 3. Составим ТОП-10 штатов с максимальным количеством игроков с повышенным индексом массы тела."
   ]
  },
  {
   "cell_type": "code",
   "execution_count": 12,
   "metadata": {},
   "outputs": [
    {
     "data": {
      "text/html": [
       "<div>\n",
       "<style scoped>\n",
       "    .dataframe tbody tr th:only-of-type {\n",
       "        vertical-align: middle;\n",
       "    }\n",
       "\n",
       "    .dataframe tbody tr th {\n",
       "        vertical-align: top;\n",
       "    }\n",
       "\n",
       "    .dataframe thead th {\n",
       "        text-align: right;\n",
       "    }\n",
       "</style>\n",
       "<table border=\"1\" class=\"dataframe\">\n",
       "  <thead>\n",
       "    <tr style=\"text-align: right;\">\n",
       "      <th></th>\n",
       "      <th>birth_state</th>\n",
       "      <th>Player</th>\n",
       "      <th>height</th>\n",
       "      <th>weight</th>\n",
       "      <th>collage</th>\n",
       "      <th>born</th>\n",
       "      <th>birth_city</th>\n",
       "      <th>mass_index</th>\n",
       "      <th>weight_categoty</th>\n",
       "    </tr>\n",
       "  </thead>\n",
       "  <tbody>\n",
       "    <tr>\n",
       "      <th>0</th>\n",
       "      <td>California</td>\n",
       "      <td>68</td>\n",
       "      <td>68</td>\n",
       "      <td>68</td>\n",
       "      <td>68</td>\n",
       "      <td>68</td>\n",
       "      <td>68</td>\n",
       "      <td>68</td>\n",
       "      <td>68</td>\n",
       "    </tr>\n",
       "    <tr>\n",
       "      <th>1</th>\n",
       "      <td>New York</td>\n",
       "      <td>60</td>\n",
       "      <td>60</td>\n",
       "      <td>60</td>\n",
       "      <td>60</td>\n",
       "      <td>60</td>\n",
       "      <td>60</td>\n",
       "      <td>60</td>\n",
       "      <td>60</td>\n",
       "    </tr>\n",
       "    <tr>\n",
       "      <th>2</th>\n",
       "      <td>Illinois</td>\n",
       "      <td>47</td>\n",
       "      <td>47</td>\n",
       "      <td>47</td>\n",
       "      <td>47</td>\n",
       "      <td>47</td>\n",
       "      <td>47</td>\n",
       "      <td>47</td>\n",
       "      <td>47</td>\n",
       "    </tr>\n",
       "    <tr>\n",
       "      <th>3</th>\n",
       "      <td>Texas</td>\n",
       "      <td>35</td>\n",
       "      <td>35</td>\n",
       "      <td>35</td>\n",
       "      <td>35</td>\n",
       "      <td>35</td>\n",
       "      <td>35</td>\n",
       "      <td>35</td>\n",
       "      <td>35</td>\n",
       "    </tr>\n",
       "    <tr>\n",
       "      <th>4</th>\n",
       "      <td>Ohio</td>\n",
       "      <td>28</td>\n",
       "      <td>28</td>\n",
       "      <td>28</td>\n",
       "      <td>28</td>\n",
       "      <td>28</td>\n",
       "      <td>28</td>\n",
       "      <td>28</td>\n",
       "      <td>28</td>\n",
       "    </tr>\n",
       "    <tr>\n",
       "      <th>5</th>\n",
       "      <td>Michigan</td>\n",
       "      <td>28</td>\n",
       "      <td>28</td>\n",
       "      <td>28</td>\n",
       "      <td>28</td>\n",
       "      <td>28</td>\n",
       "      <td>28</td>\n",
       "      <td>28</td>\n",
       "      <td>28</td>\n",
       "    </tr>\n",
       "    <tr>\n",
       "      <th>6</th>\n",
       "      <td>Georgia</td>\n",
       "      <td>26</td>\n",
       "      <td>26</td>\n",
       "      <td>26</td>\n",
       "      <td>26</td>\n",
       "      <td>26</td>\n",
       "      <td>26</td>\n",
       "      <td>26</td>\n",
       "      <td>26</td>\n",
       "    </tr>\n",
       "    <tr>\n",
       "      <th>7</th>\n",
       "      <td>Pennsylvania</td>\n",
       "      <td>23</td>\n",
       "      <td>23</td>\n",
       "      <td>23</td>\n",
       "      <td>23</td>\n",
       "      <td>23</td>\n",
       "      <td>23</td>\n",
       "      <td>23</td>\n",
       "      <td>23</td>\n",
       "    </tr>\n",
       "    <tr>\n",
       "      <th>8</th>\n",
       "      <td>New Jersey</td>\n",
       "      <td>22</td>\n",
       "      <td>22</td>\n",
       "      <td>22</td>\n",
       "      <td>22</td>\n",
       "      <td>22</td>\n",
       "      <td>22</td>\n",
       "      <td>22</td>\n",
       "      <td>22</td>\n",
       "    </tr>\n",
       "    <tr>\n",
       "      <th>9</th>\n",
       "      <td>Louisiana</td>\n",
       "      <td>22</td>\n",
       "      <td>22</td>\n",
       "      <td>22</td>\n",
       "      <td>22</td>\n",
       "      <td>22</td>\n",
       "      <td>22</td>\n",
       "      <td>22</td>\n",
       "      <td>22</td>\n",
       "    </tr>\n",
       "  </tbody>\n",
       "</table>\n",
       "</div>"
      ],
      "text/plain": [
       "    birth_state  Player  height  weight  collage  born  birth_city  \\\n",
       "0    California      68      68      68       68    68          68   \n",
       "1      New York      60      60      60       60    60          60   \n",
       "2      Illinois      47      47      47       47    47          47   \n",
       "3         Texas      35      35      35       35    35          35   \n",
       "4          Ohio      28      28      28       28    28          28   \n",
       "5      Michigan      28      28      28       28    28          28   \n",
       "6       Georgia      26      26      26       26    26          26   \n",
       "7  Pennsylvania      23      23      23       23    23          23   \n",
       "8    New Jersey      22      22      22       22    22          22   \n",
       "9     Louisiana      22      22      22       22    22          22   \n",
       "\n",
       "   mass_index  weight_categoty  \n",
       "0          68               68  \n",
       "1          60               60  \n",
       "2          47               47  \n",
       "3          35               35  \n",
       "4          28               28  \n",
       "5          28               28  \n",
       "6          26               26  \n",
       "7          23               23  \n",
       "8          22               22  \n",
       "9          22               22  "
      ]
     },
     "execution_count": 12,
     "metadata": {},
     "output_type": "execute_result"
    }
   ],
   "source": [
    "top_states_with_overweight = df_1[df_1.weight_categoty=='избыточная масса тела'].groupby('birth_state').count()\\\n",
    "    .sort_values('Player', ascending=False).reset_index().head(10)\n",
    "top_states_with_overweight"
   ]
  },
  {
   "cell_type": "code",
   "execution_count": 13,
   "metadata": {
    "scrolled": true
   },
   "outputs": [
    {
     "data": {
      "image/png": "[encoded data removed]",
      "text/plain": [
       "<Figure size 864x504 with 1 Axes>"
      ]
     },
     "metadata": {
      "needs_background": "light"
     },
     "output_type": "display_data"
    }
   ],
   "source": [
    "plt.barh(top_states_with_overweight['birth_state'], top_states_with_overweight['Player'])\n",
    "plt.xlabel('number of overweight players', fontsize=14)\n",
    "plt.ylabel('birth_state', fontsize=14)\n",
    "plt.savefig('top_states_with_overweight.png')"
   ]
  },
  {
   "cell_type": "markdown",
   "metadata": {},
   "source": [
    "### 4. Подробнее рассмотрим взаимосвязь двух численных признаков, таких как __`дата рождения`__ и __`индекс массы тела`__."
   ]
  },
  {
   "cell_type": "code",
   "execution_count": 14,
   "metadata": {},
   "outputs": [],
   "source": [
    "import seaborn as sns"
   ]
  },
  {
   "cell_type": "code",
   "execution_count": 15,
   "metadata": {},
   "outputs": [
    {
     "data": {
      "text/plain": [
       "<seaborn.axisgrid.JointGrid at 0x22d4c14ec88>"
      ]
     },
     "execution_count": 15,
     "metadata": {},
     "output_type": "execute_result"
    },
    {
     "data": {
      "image/png": "[encoded data removed]",
      "text/plain": [
       "<Figure size 432x432 with 3 Axes>"
      ]
     },
     "metadata": {
      "needs_background": "light"
     },
     "output_type": "display_data"
    }
   ],
   "source": [
    "sns.jointplot(x='born', y='mass_index', data=df_1, \n",
    "              kind='kde', space=0)"
   ]
  },
  {
   "cell_type": "code",
   "execution_count": 16,
   "metadata": {
    "scrolled": false
   },
   "outputs": [
    {
     "data": {
      "text/plain": [
       "<seaborn.axisgrid.JointGrid at 0x22d4c2c2a08>"
      ]
     },
     "execution_count": 16,
     "metadata": {},
     "output_type": "execute_result"
    },
    {
     "data": {
      "image/png": "[encoded data removed]",
      "text/plain": [
       "<Figure size 432x432 with 3 Axes>"
      ]
     },
     "metadata": {
      "needs_background": "light"
     },
     "output_type": "display_data"
    }
   ],
   "source": [
    "sns.jointplot('born', 'mass_index', data=df_1, \n",
    "              kind='reg', space=0, joint_kws={'line_kws':{'color':'lightskyblue'}})"
   ]
  },
  {
   "cell_type": "markdown",
   "metadata": {},
   "source": [
    "У младшего поколения игроков наблюдается тенденция к увеличению индекса массы тела. При этом распределение людей с нормальным и повышенным индексом массы тела становится более равномерным. "
   ]
  },
  {
   "cell_type": "markdown",
   "metadata": {},
   "source": [
    "### 5. Построим __`box plot`__ распределения индекса массы для ТОП-10 штатов с максимальным количеством игроков с повышенным индексом массы тела. "
   ]
  },
  {
   "cell_type": "code",
   "execution_count": 17,
   "metadata": {
    "scrolled": true
   },
   "outputs": [],
   "source": [
    "# top_states_with_overweight = df_1[df_1.weight_categoty == 'избыточная масса тела'].groupby('birth_state').count()\\\n",
    "#     .sort_values('Player', ascending=False).head(10).index.values\n",
    "# # top_states_with_overweight\n",
    "# for state in top_states_with_overweight:\n",
    "#     df_1[df_1.birth_state.str.contains(state)].mass_index.plot(kind='box')"
   ]
  },
  {
   "cell_type": "markdown",
   "metadata": {},
   "source": [
    "*__`Пока не разобрался как строить box plot c помощью Matplotlib? С помощью классов?`__*"
   ]
  },
  {
   "cell_type": "markdown",
   "metadata": {},
   "source": [
    "Построим __`boxplot`__ распределения индекса массы для ТОП-10 штатов с максимальным количеством игроков с повышенным индексом массы тела с использованием библиотеки **Seaborn**. "
   ]
  },
  {
   "cell_type": "code",
   "execution_count": 18,
   "metadata": {},
   "outputs": [
    {
     "data": {
      "image/png": "[encoded data removed]",
      "text/plain": [
       "<Figure size 864x504 with 1 Axes>"
      ]
     },
     "metadata": {
      "needs_background": "light"
     },
     "output_type": "display_data"
    }
   ],
   "source": [
    "top_states_with_overweight = df_1[df_1.weight_categoty == 'избыточная масса тела'].groupby('birth_state').count()\\\n",
    "    .sort_values('Player', ascending=False).head(10).index.values\n",
    "# top_states_with_overweight\n",
    "ax = sns.boxplot(x=\"birth_state\", y=\"mass_index\", \n",
    "            data=df_1[df_1.birth_state.isin(top_states_with_overweight)])"
   ]
  },
  {
   "cell_type": "markdown",
   "metadata": {},
   "source": [
    "### 6. Определим 10 колледжей, в которых обучается (или обучалось) наибольшее количество зарегистрированных игроков."
   ]
  },
  {
   "cell_type": "code",
   "execution_count": 19,
   "metadata": {},
   "outputs": [
    {
     "data": {
      "text/plain": [
       "University of Kentucky                   84\n",
       "University of California, Los Angeles    84\n",
       "University of North Carolina             65\n",
       "University of Kansas                     58\n",
       "Duke University                          54\n",
       "Syracuse University                      43\n",
       "St. John's University                    43\n",
       "Michigan State University                43\n",
       "University of Notre Dame                 43\n",
       "Indiana University                       42\n",
       "Name: collage, dtype: int64"
      ]
     },
     "execution_count": 19,
     "metadata": {},
     "output_type": "execute_result"
    }
   ],
   "source": [
    "players_collage_stat = df_1.collage.value_counts().head(10)\n",
    "players_collage_stat"
   ]
  },
  {
   "cell_type": "code",
   "execution_count": 20,
   "metadata": {},
   "outputs": [
    {
     "data": {
      "image/png": "[encoded data removed]",
      "text/plain": [
       "<Figure size 864x504 with 1 Axes>"
      ]
     },
     "metadata": {
      "needs_background": "light"
     },
     "output_type": "display_data"
    }
   ],
   "source": [
    "plt.barh(players_collage_stat.index, players_collage_stat)\n",
    "plt.xlabel('number of players', fontsize=14)\n",
    "plt.ylabel('collage', fontsize=14)\n",
    "plt.savefig('players_collage_stat.png')"
   ]
  },
  {
   "cell_type": "code",
   "execution_count": null,
   "metadata": {},
   "outputs": [],
   "source": []
  }
 ],
 "metadata": {
  "kernelspec": {
   "display_name": "Python 3",
   "language": "python",
   "name": "python3"
  },
  "language_info": {
   "codemirror_mode": {
    "name": "ipython",
    "version": 3
   },
   "file_extension": ".py",
   "mimetype": "text/x-python",
   "name": "python",
   "nbconvert_exporter": "python",
   "pygments_lexer": "ipython3",
   "version": "3.7.6"
  }
 },
 "nbformat": 4,
 "nbformat_minor": 4
}
