{
 "cells": [
  {
   "cell_type": "markdown",
   "metadata": {},
   "source": [
    "**Задание 1**. Даны 2 строки: *long_phrase* и *short_phrase*. \n",
    "Напишите код, который проверяет действительно ли длинная фраза *long_phrase* длиннее короткой *short_phrase*. И выводит *True* или *False* в зависимости от результата сравнения."
   ]
  },
  {
   "cell_type": "code",
   "execution_count": null,
   "metadata": {},
   "outputs": [],
   "source": [
    "long_phrase = 'Насколько проще было бы писать программы, если бы не заказчики'\n",
    "short_phrase = '640Кб должно хватить для любых задач. Билл Гейтс (по легенде)'\n",
    "print(len(long_phrase) > len(short_phrase))"
   ]
  },
  {
   "cell_type": "markdown",
   "metadata": {},
   "source": [
    "**Задание 2**. Дано значение объема файла в байтах (*в мегабайте 2^20 байт*). Напишите перевод этого значения в мегабайты в формате: \"*Объем файла равен 213.68Mb*\"."
   ]
  },
  {
   "cell_type": "code",
   "execution_count": null,
   "metadata": {},
   "outputs": [],
   "source": [
    "file_weight_byte = float(input(\"Введите вес файла в байтах: \"))\n",
    "file_weight_Mbyte = file_weight_byte / 2**20\n",
    "print(f\"Объём файла равен {file_weight_Mbyte} Mb\")"
   ]
  },
  {
   "cell_type": "markdown",
   "metadata": {},
   "source": [
    "**Задание 3**. Разработать приложение для определения знака зодиака по дате рождения. Пример:\n",
    "\n",
    "Введите месяц: март\n",
    "\n",
    "Введите число: 6\n",
    "\n",
    "Вывод:\n",
    "Рыбы"
   ]
  },
  {
   "cell_type": "code",
   "execution_count": null,
   "metadata": {},
   "outputs": [],
   "source": [
    "month_list = [\"декабрь\", \"январь\", \"февраль\", \n",
    "              \"март\", \"апрель\", \"май\",\n",
    "              \"июнь\",\"июль\", \"август\", \n",
    "              \"сентябрь\",\"октябрь\", \"ноябрь\"\n",
    "             ]\n",
    "days_per_month = [31, 30, 29,\n",
    "                  31, 30, 31,\n",
    "                  30, 31, 31,\n",
    "                  30, 31, 30\n",
    "                 ]\n",
    "while True:\n",
    "    month=input(\"Введите месяц: \")\n",
    "    if month not in month_list:\n",
    "        print(\"Ошибка ввода. Такого месяца не существует.\")\n",
    "    else:\n",
    "        break\n",
    "\n",
    "while True:\n",
    "    date=int(input(\"Введите число: \"))\n",
    "    if 1 <= date <= days_per_month[month_list.index(month)]:\n",
    "        break\n",
    "    else:\n",
    "        print(\"Ошибка ввода. Некорректный ввод числа.\")\n",
    "        print(\"Список месяцев и количество дней в них:\")\n",
    "        print(list(zip(month_list, days_per_month)))\n",
    "\n",
    "if (month==\"декабрь\" and 23 <= date <= 31) or (month==\"январь\" and 1<=date<=20):\n",
    "    print(\"Козерог\")\n",
    "elif (month==\"январь\" and 21 <= date <= 30) or (month==\"февраль\" and 1<=date<=19):\n",
    "    print(\"Водолей\")\n",
    "elif (month==\"февраль\" and 20 <= date <= 29) or (month==\"март\" and 1<=date<=20):\n",
    "    print(\"Рыбы\")\n",
    "elif (month==\"март\" and 21 <= date <= 31) or (month==\"апрель\" and 1<=date<=20):\n",
    "    print(\"Овен\")\n",
    "elif (month==\"апрель\" and 21 <= date <= 30) or (month==\"май\" and 1<=date<=21):\n",
    "    print(\"Телец\")\n",
    "elif (month==\"май\" and 22 <= date <= 31) or (month==\"июнь\" and 1<=date<=21):\n",
    "    print(\"Близнецы\")\n",
    "elif (month==\"июнь\" and 22 <= date <= 30) or (month==\"июль\" and 1<=date<=22):\n",
    "    print(\"Рак\")\n",
    "elif (month==\"июль\" and 23 <= date <= 31) or (month==\"август\" and 1<=date<=21):\n",
    "    print(\"Лев\")\n",
    "elif (month==\"август\" and 22 <= date <= 31) or (month==\"сентябрь\" and 1<=date<=23):\n",
    "    print(\"Дева\")\n",
    "elif (month==\"сентябрь\" and 24 <= date <= 30) or (month==\"октябрь\" and 1<=date<=23):\n",
    "    print(\"Весы\")\n",
    "elif (month==\"октябрь\" and 24 <= date <= 31) or (month==\"ноябрь\" and 1<=date<=22):\n",
    "    print(\"Скорпион\")\n",
    "elif (month==\"ноябрь\" and 23 <= date <= 30) or (month==\"декабрь\" and 1<=date<=22):\n",
    "    print(\"Стрелец\")\n",
    "else:\n",
    "    print(\"Какая-то ошибка, которую не предусмотрел разработчик.\")"
   ]
  },
  {
   "cell_type": "markdown",
   "metadata": {},
   "source": [
    "**Задание 4**. Нужно разработать приложение для финансового планирования.\n",
    "Приложение учитывает сколько уходит на ипотеку, \"на жизнь\" и сколько нужно отложить на пенсию.\n",
    "Пользователь вводит:\n",
    "- заработанную плату в месяц.\n",
    "- сколько процентов от ЗП уходит на ипотеку.\n",
    "- сколько процентов от ЗП уходит \"на жизнь\".\n",
    "- сколько раз приходит премия в год.\n",
    "\n",
    "Остальная часть заработанной платы откладывается на пенсию.\n",
    "\n",
    "Также пользователю приходит премия в размере зарплаты, от которой половина уходит на отпуск, а вторая половина откладывается.\n",
    "\n",
    "Программа должна учитывать сколько премий было в год.\n",
    "\n",
    "Нужно вывести сколько денег тратит пользователь на ипотеку и сколько он накопит за год.\n",
    "\n",
    "Пример:\n",
    "\n",
    "Введите заработанную плату в месяц: 100000\n",
    "\n",
    "Введите сколько процентов уходит на ипотеку: 30\n",
    "\n",
    "Введите сколько процентов уходит на жизнь: 50\n",
    "\n",
    "Введите количество премий за год: 2\n",
    "\n",
    "Вывод:\n",
    "На ипотеку было потрачено: 360000 рублей\n",
    "Было накоплено: 340000 рублей"
   ]
  },
  {
   "cell_type": "code",
   "execution_count": null,
   "metadata": {},
   "outputs": [],
   "source": [
    "months=12\n",
    "salary = float(input(\"Введите заработную плату (ЗП) в месяц, руб: \"))\n",
    "percentage_mortgage = float(input(\"Введите сколько процентов ЗП уходит на ипотеку, %: \"))\n",
    "percentage_life_costs = float(input(\"Введите сколько процентов ЗП уходит на жизнь, %: \"))\n",
    "number_of_bonuses = int(input(\"Введите количество премий в год: \"))\n",
    "\n",
    "volume_mortgage =  salary * months * percentage_mortgage / 100\n",
    "volume_life_costs = salary * months * percentage_life_costs / 100\n",
    "vacation = number_of_bonuses * salary /2\n",
    "pension_savings = salary * months - volume_life_costs - volume_mortgage + number_of_bonuses * salary /2\n",
    "\n",
    "print(f'''На ипотеку было потрачено: {volume_mortgage} рублей.\n",
    "Было накоплено: {pension_savings} рублей''')"
   ]
  },
  {
   "cell_type": "code",
   "execution_count": null,
   "metadata": {},
   "outputs": [],
   "source": []
  }
 ],
 "metadata": {
  "kernelspec": {
   "display_name": "Python 3",
   "language": "python",
   "name": "python3"
  },
  "language_info": {
   "codemirror_mode": {
    "name": "ipython",
    "version": 3
   },
   "file_extension": ".py",
   "mimetype": "text/x-python",
   "name": "python",
   "nbconvert_exporter": "python",
   "pygments_lexer": "ipython3",
   "version": "3.7.6"
  }
 },
 "nbformat": 4,
 "nbformat_minor": 2
}
