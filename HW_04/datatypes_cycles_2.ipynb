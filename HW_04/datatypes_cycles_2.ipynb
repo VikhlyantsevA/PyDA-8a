{
 "cells": [
  {
   "cell_type": "markdown",
   "metadata": {},
   "source": [
    "**Задание 1**. Дан список с визитами по городам и странам. \n",
    "Напишите код, который возвращает отфильтрованный список geo_logs, содержащий только визиты из России."
   ]
  },
  {
   "cell_type": "code",
   "execution_count": 7,
   "metadata": {},
   "outputs": [
    {
     "name": "stdout",
     "output_type": "stream",
     "text": [
      "{'visit1': ['Москва', 'Россия']}\n",
      "{'visit3': ['Владимир', 'Россия']}\n",
      "{'visit7': ['Тула', 'Россия']}\n",
      "{'visit8': ['Тула', 'Россия']}\n",
      "{'visit9': ['Курск', 'Россия']}\n",
      "{'visit10': ['Архангельск', 'Россия']}\n"
     ]
    }
   ],
   "source": [
    "geo_logs = [\n",
    "    {'visit1': ['Москва', 'Россия']},\n",
    "    {'visit2': ['Дели', 'Индия']},\n",
    "    {'visit3': ['Владимир', 'Россия']},\n",
    "    {'visit4': ['Лиссабон', 'Португалия']},\n",
    "    {'visit5': ['Париж', 'Франция']},\n",
    "    {'visit6': ['Лиссабон', 'Португалия']},\n",
    "    {'visit7': ['Тула', 'Россия']},\n",
    "    {'visit8': ['Тула', 'Россия']},\n",
    "    {'visit9': ['Курск', 'Россия']},\n",
    "    {'visit10': ['Архангельск', 'Россия']}\n",
    "]\n",
    "\n",
    "geo_logs_filtered = []\n",
    "\n",
    "for element in geo_logs:\n",
    "    for visit in element:\n",
    "        if 'Россия' in element[visit]:\n",
    "            geo_logs_filtered.append(element)\n",
    "\n",
    "for element in geo_logs_filtered: \n",
    "    print(element)"
   ]
  },
  {
   "cell_type": "markdown",
   "metadata": {},
   "source": [
    "**Задание 2**. Выведите на экран все уникальные гео-ID из значений словаря ids. Т. е. список вида [213, 15, 54, 119, 98, 35]"
   ]
  },
  {
   "cell_type": "code",
   "execution_count": 8,
   "metadata": {},
   "outputs": [
    {
     "name": "stdout",
     "output_type": "stream",
     "text": [
      "[98, 35, 213, 54, 119, 15]\n"
     ]
    }
   ],
   "source": [
    "ids = {'user1': [213, 213, 213, 15, 213], \n",
    "       'user2': [54, 54, 119, 119, 119], \n",
    "       'user3': [213, 98, 98, 35]}\n",
    "\n",
    "i = 0\n",
    "\n",
    "for user in ids:\n",
    "    id = set(ids[user])\n",
    "    if i != 0:\n",
    "        unique_id = id.union(unique_id)\n",
    "    else:\n",
    "        unique_id = id\n",
    "    i +=1\n",
    "unique_id = list(unique_id)\n",
    "print(unique_id)"
   ]
  },
  {
   "cell_type": "markdown",
   "metadata": {},
   "source": [
    "**Задание 3**. Дан список поисковых запросов. Получить распределение количества слов в них. \n",
    "Т. е. поисковых запросов из одного - слова 5%, из двух - 7%, из трех - 3% и т.д."
   ]
  },
  {
   "cell_type": "code",
   "execution_count": 9,
   "metadata": {},
   "outputs": [
    {
     "name": "stdout",
     "output_type": "stream",
     "text": [
      "Поисковых запросов из 2 слов(-а) - 42.86 %\n",
      "Поисковых запросов из 3 слов(-а) - 57.14 %\n"
     ]
    }
   ],
   "source": [
    "queries = [\n",
    "    'смотреть сериалы онлайн',\n",
    "    'новости спорта',\n",
    "    'афиша кино',\n",
    "    'курс доллара',\n",
    "    'сериалы этим летом',\n",
    "    'курс по питону',\n",
    "    'сериалы про спорт',\n",
    "]\n",
    "\n",
    "words_in_queries_list = {}\n",
    "for query in queries:\n",
    "    words_in_query = str(len(query.split(' ')))\n",
    "    if words_in_query not in words_in_queries_list:\n",
    "        words_in_queries_list[words_in_query] = [query, ]\n",
    "    else:\n",
    "        words_in_queries_list[words_in_query] += [query, ]\n",
    "        \n",
    "keys_list = list(words_in_queries_list.keys())\n",
    "keys_list.sort()\n",
    "for key in keys_list:\n",
    "    print(f'Поисковых запросов из {key} слов(-а) - {round(100*len(words_in_queries_list[key])/len(queries),2)} %')"
   ]
  },
  {
   "cell_type": "markdown",
   "metadata": {},
   "source": [
    "**Задание 4**. Дана статистика рекламных каналов по объемам продаж. Напишите скрипт, который возвращает название канала с максимальным объемом.\n",
    "Т. е. в данном примере скрипт должен возвращать 'yandex'."
   ]
  },
  {
   "cell_type": "code",
   "execution_count": 10,
   "metadata": {},
   "outputs": [
    {
     "name": "stdout",
     "output_type": "stream",
     "text": [
      "yandex\n"
     ]
    }
   ],
   "source": [
    "stats = {'facebook': 55, 'yandex': 120, 'vk': 115, 'google': 99, 'email': 42, 'ok': 98}\n",
    "# i = 0\n",
    "# for channel in stats:\n",
    "#     if i == 0:\n",
    "#         sales_leading_channel = channel\n",
    "#         max_sales = stats[channel]\n",
    "#     else:\n",
    "#         if stats[channel] > max_sales:\n",
    "#             sales_leading_channel = channel\n",
    "#             max_sales = stats[channel]\n",
    "#     i += 1\n",
    "# print(sales_leading_channel)\n",
    "\n",
    "values_list = list(stats.values())\n",
    "keys_list = list(stats.keys())\n",
    "sales_leading_channel = keys_list[values_list.index(max(values_list))] \n",
    "print(sales_leading_channel)"
   ]
  },
  {
   "cell_type": "markdown",
   "metadata": {},
   "source": [
    "**Задание 5**. Напишите код для преобразования произвольного списка вида ['2018-01-01', 'yandex', 'cpc', 100] (он может быть любой длины) в словарь {'2018-01-01': {'yandex': {'cpc': 100}}}"
   ]
  },
  {
   "cell_type": "code",
   "execution_count": 11,
   "metadata": {},
   "outputs": [
    {
     "name": "stdout",
     "output_type": "stream",
     "text": [
      "{'2018-01-01': {'yandex': {'cpc': 100}}}\n"
     ]
    }
   ],
   "source": [
    "user_list = ['2018-01-01', 'yandex', 'cpc', 100]\n",
    "# user_list = str(input(\"Введите данные через запятую:\")).split(',')\n",
    "user_dict = {}\n",
    "sub_dict = {}\n",
    "if len(user_list) < 2:\n",
    "    print('Словарь не может быть создан из списка с одним элементом.')\n",
    "else:\n",
    "    for i in range(-1, -len(user_list),-1):\n",
    "        if i == -1:\n",
    "            sub_dict[user_list[i-1]] = user_list[i]\n",
    "        else:\n",
    "            user_dict.clear()\n",
    "            user_dict[user_list[i-1]] = sub_dict.copy()\n",
    "            sub_dict.clear()\n",
    "            sub_dict = user_dict.copy()\n",
    "print(user_dict)"
   ]
  },
  {
   "cell_type": "code",
   "execution_count": null,
   "metadata": {},
   "outputs": [],
   "source": []
  }
 ],
 "metadata": {
  "kernelspec": {
   "display_name": "Python 3",
   "language": "python",
   "name": "python3"
  },
  "language_info": {
   "codemirror_mode": {
    "name": "ipython",
    "version": 3
   },
   "file_extension": ".py",
   "mimetype": "text/x-python",
   "name": "python",
   "nbconvert_exporter": "python",
   "pygments_lexer": "ipython3",
   "version": "3.7.6"
  }
 },
 "nbformat": 4,
 "nbformat_minor": 2
}
