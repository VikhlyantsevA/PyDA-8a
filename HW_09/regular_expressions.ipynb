{
 "cells": [
  {
   "cell_type": "markdown",
   "metadata": {},
   "source": [
    "## Задание 1\n",
    "Напишите функцию, которая принимает на вход строку и проверяет является ли она валидным транспортным номером. Если да, то функция должна возвращать отдельно номер и регион."
   ]
  },
  {
   "cell_type": "code",
   "execution_count": 45,
   "metadata": {},
   "outputs": [],
   "source": [
    "import re\n",
    "\n",
    "def vehicle_checking_out(vehicle_number):\n",
    "    vehicle_number = re.sub(r'\\s+','',vehicle_number)\n",
    "    vehicle_pattern = r'[АВЕКМНОРСТУХ](\\d{3})[АВЕКМНОРСТУХ]{2}(\\d{2,3})$'\n",
    "    vehicle_number_search_result = re.match(vehicle_pattern,vehicle_number,flags=re.I)\n",
    "    if vehicle_number_search_result:\n",
    "        print(f'Номер валиден.')\n",
    "        registration_number = vehicle_number_search_result.group(1)\n",
    "        region_code = vehicle_number_search_result.group(2)\n",
    "        return registration_number, region_code\n",
    "    print(f'Номер не валиден.')"
   ]
  },
  {
   "cell_type": "code",
   "execution_count": 46,
   "metadata": {},
   "outputs": [
    {
     "name": "stdout",
     "output_type": "stream",
     "text": [
      "Номер валиден.\n"
     ]
    },
    {
     "data": {
      "text/plain": [
       "('065', '78')"
      ]
     },
     "execution_count": 46,
     "metadata": {},
     "output_type": "execute_result"
    }
   ],
   "source": [
    "vehicle_number = 'С065МК78'\n",
    "vehicle_checking_out(vehicle_number)"
   ]
  },
  {
   "cell_type": "markdown",
   "metadata": {},
   "source": [
    "## Задание 2\n",
    "Постарайтесь написать (в крайнем случае найти) самый полный шаблон для проверки e-mail адресов через регулярное выражение, которая проверяет e-mail адрес на валидность. Можно руководствоваться следующими минимальными требованиями:\n",
    "- адрес должен содержать специальный символ “@”, который отделяет имя пользователя почтовой системы от доменного имени;\n",
    "- адрес не должен содержать следующие символы: “пробел”, “,”, “:”, “;”, “!”, “#”, “%”, “*”, “(”, “)”, “=”, “+”, “{”, “}”, \" \" \", \" ’ \", \" / \", \" \\ \" и “|”;\n",
    "- адрес должен состоять только из латинских символов;\n",
    "- после символа “@” должна быть как минимум одна “.”;\n",
    "- после последней точки должно быть не менее 2-х и не более 4-х символов, причем наличие цифр не допускается;\n",
    "- между последней точкой и символом “@” должно быть не менее 2-х символов\n",
    "- слева от “@” должно быть не менее четырех символов\n",
    "- Первым знаком после @ не должна быть '.' *(дополнительно)*"
   ]
  },
  {
   "cell_type": "code",
   "execution_count": 47,
   "metadata": {},
   "outputs": [],
   "source": [
    "def email_checking_out(email_names):\n",
    "#     email_pattern = r'^[a-zA-Z0-9_]{4,}@[a-zA-Z]+[a-zA-Z.]+\\.[a-zA-Z]{2,4}$'\n",
    "    for email_name in email_names:\n",
    "        email_pattern = r'^[^\\s,:;!#%*()=+{}\"\\'/\\|а-яА-Я]{4,}@[a-zA-Z]+[a-zA-Z.]+\\.[a-zA-Z]{2,4}$'\n",
    "        if re.findall(email_pattern,email_name):\n",
    "            print(f'email валиден.')\n",
    "        else:\n",
    "            print(f'email не валиден.')"
   ]
  },
  {
   "cell_type": "code",
   "execution_count": 48,
   "metadata": {},
   "outputs": [
    {
     "name": "stdout",
     "output_type": "stream",
     "text": [
      "email валиден.\n",
      "email не валиден.\n",
      "email не валиден.\n",
      "email не валиден.\n",
      "email не валиден.\n"
     ]
    }
   ],
   "source": [
    "email_names = [\n",
    "    'Aleks@fuji.com.su',\n",
    "    'Al@fuji.com.su',\n",
    "    'Ale#s@fuji.com.su',\n",
    "    'Aleks@.fuji.com.su',\n",
    "    'Aleks@fuji.com.something'\n",
    "]\n",
    "\n",
    "email_checking_out(email_names)"
   ]
  },
  {
   "cell_type": "markdown",
   "metadata": {},
   "source": [
    "## Задание 3\n",
    "Напишите функцию, которая будет удалять все последовательные повторы слов из заданной строки при помощи регулярных выражений."
   ]
  },
  {
   "cell_type": "code",
   "execution_count": 49,
   "metadata": {},
   "outputs": [],
   "source": [
    "def delete_repetition(expression_str):\n",
    "    expression_str = re.sub(r'(\\w+)(\\s+\\1)+',r'\\1',expression_str,flags=re.I)\n",
    "    return expression_str"
   ]
  },
  {
   "cell_type": "code",
   "execution_count": 50,
   "metadata": {},
   "outputs": [
    {
     "data": {
      "text/plain": [
       "'Мама мыла раму!'"
      ]
     },
     "execution_count": 50,
     "metadata": {},
     "output_type": "execute_result"
    }
   ],
   "source": [
    "expression_str = 'Мама мама мыла раму раму!'\n",
    "delete_repetition(expression_str)"
   ]
  },
  {
   "cell_type": "markdown",
   "metadata": {},
   "source": [
    "## Задание 4\n",
    "Напишите функцию, которая будет проверять номер сотового телефона на валидность, если он валиден, то переводить его в формат:\n",
    "\n",
    "**+7(xxx)-xxx-xx-xx**\n",
    "\n",
    "Постарайтесь предусмотреть как можно больше адекватных форматов изначального ввода номера. Примеры валидных форматов:\n",
    "\n",
    "- *+7 955 555-55-55;*\n",
    "- *9555555555;*\n",
    "- *8(955)555-55-55;*\n",
    "- *+7 955 555 55 55;*\n",
    "- *7(955) 555-55-55;*\n",
    "- *+7 955+555+55+55.*"
   ]
  },
  {
   "cell_type": "code",
   "execution_count": 51,
   "metadata": {},
   "outputs": [],
   "source": [
    "def check_mobilephone(mobile_number):\n",
    "    mobile_number = re.sub(r'\\s+','',mobile_number)\n",
    "    # Проверка по количеству цифр\n",
    "    amount_of_signs = len(re.findall(r'\\d{1}',mobile_number))\n",
    "    if amount_of_signs == 11:\n",
    "        # Проверка по шаблону\n",
    "        # re.match() во избежание некорректной валидации в случае ++7 955+555+55+55, +77 955+555+55+55 или др.\n",
    "        # $ в конце шаблона во избежание некорректной валидации в случае +7 955+555+55+55+, +7 955+555+55+556 или др.\n",
    "        mobile_pattern = r'((\\+7)|[78])?[(]?(9\\d{2})[)]?[-+]?(\\d{3})[-+]?(\\d{2})[-+]?(\\d{2})$'\n",
    "        if re.match(mobile_pattern,mobile_number):\n",
    "            print(f'Номер валиден. Перевожу в требуемый формат.')\n",
    "            mobile_number_rewriting = re.sub(mobile_pattern,r'+7(\\3)-\\4-\\5-\\6',mobile_number)\n",
    "            return mobile_number_rewriting\n",
    "    print(f'Номер не валиден.')"
   ]
  },
  {
   "cell_type": "code",
   "execution_count": 52,
   "metadata": {},
   "outputs": [
    {
     "name": "stdout",
     "output_type": "stream",
     "text": [
      "Номер валиден. Перевожу в требуемый формат.\n"
     ]
    },
    {
     "data": {
      "text/plain": [
       "'+7(955)-555-55-55'"
      ]
     },
     "execution_count": 52,
     "metadata": {},
     "output_type": "execute_result"
    }
   ],
   "source": [
    "mobilephone_number = '+7 955+555+55+55'\n",
    "check_mobilephone(mobilephone_number)"
   ]
  },
  {
   "cell_type": "code",
   "execution_count": null,
   "metadata": {},
   "outputs": [],
   "source": []
  }
 ],
 "metadata": {
  "kernelspec": {
   "display_name": "Python 3",
   "language": "python",
   "name": "python3"
  },
  "language_info": {
   "codemirror_mode": {
    "name": "ipython",
    "version": 3
   },
   "file_extension": ".py",
   "mimetype": "text/x-python",
   "name": "python",
   "nbconvert_exporter": "python",
   "pygments_lexer": "ipython3",
   "version": "3.7.6"
  }
 },
 "nbformat": 4,
 "nbformat_minor": 4
}
