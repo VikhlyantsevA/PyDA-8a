{
 "cells": [
  {
   "cell_type": "markdown",
   "metadata": {},
   "source": [
    "## Задание 1\n",
    "Напишите функцию, которая возвращает название валюты (поле ‘Name’) с максимальным значением курса с помощью сервиса https://www.cbr-xml-daily.ru/daily_json.js"
   ]
  },
  {
   "cell_type": "markdown",
   "metadata": {},
   "source": [
    "**Вариант 1**"
   ]
  },
  {
   "cell_type": "code",
   "execution_count": 28,
   "metadata": {},
   "outputs": [],
   "source": [
    "from libs.exchange import Rate\n",
    "\n",
    "def getting_currency_with_max_value():\n",
    "    currencies_full_dict = Rate('full').exchange_rates()\n",
    "    for i, (currency, currency_data) in enumerate(currencies_full_dict.items()):\n",
    "        if i == 0:\n",
    "            max_value = currency_data['Value']\n",
    "        else:\n",
    "            if currency_data['Value'] > max_value:\n",
    "                max_value = currency_data['Value']\n",
    "                currency_with_max_value = currency\n",
    "    print(f\"Валюта с максимальным курсом - {currencies_full_dict[currency_with_max_value]['Name']}\")  "
   ]
  },
  {
   "cell_type": "code",
   "execution_count": 29,
   "metadata": {},
   "outputs": [
    {
     "name": "stdout",
     "output_type": "stream",
     "text": [
      "Валюта с максимальным курсом - СДР (специальные права заимствования)\n"
     ]
    }
   ],
   "source": [
    "getting_currency_with_max_value()"
   ]
  },
  {
   "cell_type": "markdown",
   "metadata": {},
   "source": [
    "**Вариант 2** (Работает дольше, но сортирует все валюты по текущим значениям в порядке убывания)"
   ]
  },
  {
   "cell_type": "code",
   "execution_count": 30,
   "metadata": {},
   "outputs": [],
   "source": [
    "from libs.exchange import Rate\n",
    "from operator import itemgetter\n",
    "\n",
    "def getting_currency_with_max_value():\n",
    "    currency_ = Rate('full')\n",
    "    currencies_dict = {currency:currency_.make_format(currency)['Value'] for currency in currency_.exchange_rates()}\n",
    "    sorted_currencies_dict = sorted(currencies_dict.items(), key=itemgetter(1),reverse=True)\n",
    "#     print(sorted_currencies_dict)\n",
    "    currency_with_max_value = sorted_currencies_dict[0][0]\n",
    "    print(f\"Валюта с максимальным курсом - {currency_.make_format(currency_with_max_value)['Name']}\")"
   ]
  },
  {
   "cell_type": "code",
   "execution_count": 31,
   "metadata": {},
   "outputs": [
    {
     "name": "stdout",
     "output_type": "stream",
     "text": [
      "Валюта с максимальным курсом - СДР (специальные права заимствования)\n"
     ]
    }
   ],
   "source": [
    "getting_currency_with_max_value()"
   ]
  },
  {
   "cell_type": "markdown",
   "metadata": {},
   "source": [
    "**Вариант 3** (Изменённый Вариант 2. Работает быстрее. Cортирует все валюты по текущим значениям в порядке убывания)"
   ]
  },
  {
   "cell_type": "code",
   "execution_count": 35,
   "metadata": {},
   "outputs": [],
   "source": [
    "from libs.exchange import Rate\n",
    "from operator import itemgetter\n",
    "\n",
    "def getting_currency_with_max_value():\n",
    "    currency_ = Rate('full')\n",
    "    currencies_full_dict = currency_.exchange_rates()\n",
    "    currencies_dict = {currency:currencies_full_dict[currency]['Value'] for currency in currencies_full_dict}\n",
    "    sorted_currencies_dict = sorted(currencies_dict.items(), key=itemgetter(1),reverse=True)\n",
    "#     print(sorted_currencies_dict)\n",
    "    currency_with_max_value = sorted_currencies_dict[0][0]\n",
    "    print(f\"Валюта с максимальным курсом - {currencies_full_dict[currency_with_max_value]['Name']}\")"
   ]
  },
  {
   "cell_type": "code",
   "execution_count": 36,
   "metadata": {},
   "outputs": [
    {
     "name": "stdout",
     "output_type": "stream",
     "text": [
      "Валюта с максимальным курсом - СДР (специальные права заимствования)\n"
     ]
    }
   ],
   "source": [
    "getting_currency_with_max_value()"
   ]
  },
  {
   "cell_type": "markdown",
   "metadata": {},
   "source": [
    "## Задание 2\n",
    "Добавьте в класс Rate параметр diff (со значениями True или False), который в случае значения True в методах eur и usd будет возвращать не курс валюты, а изменение по сравнению в прошлым значением. Считайте, что self.diff будет принимать значение True только при возврате значения курса. При отображении всей информации о валюте он не используется."
   ]
  },
  {
   "cell_type": "code",
   "execution_count": 78,
   "metadata": {},
   "outputs": [],
   "source": [
    "import requests\n",
    "\n",
    "class Rate:\n",
    "    def __init__(self, format_='value'):\n",
    "        self.format = format_\n",
    "        if self.format == 'value':\n",
    "            self.diff = True\n",
    "        else:\n",
    "            self.diff = False\n",
    "        \n",
    "    def exchange_rates(self):\n",
    "        \"\"\"\n",
    "        Возвращает ответ сервиса с информацией о валютах в виде:\n",
    "        \n",
    "        {\n",
    "            'AMD': {\n",
    "                'CharCode': 'AMD',\n",
    "                'ID': 'R01060',\n",
    "                'Name': 'Армянских драмов',\n",
    "                'Nominal': 100,\n",
    "                'NumCode': '051',\n",
    "                'Previous': 14.103,\n",
    "                'Value': 14.0879\n",
    "                },\n",
    "            ...\n",
    "        }\n",
    "        \"\"\"\n",
    "        r = requests.get('https://www.cbr-xml-daily.ru/daily_json.js')\n",
    "        return r.json()['Valute']\n",
    "    \n",
    "    def make_format(self, currency):\n",
    "        \"\"\"\n",
    "        Возвращает информацию о валюте currency в двух вариантах:\n",
    "        - полная информация о валюте при self.format = 'full':\n",
    "        Rate('full').make_format('EUR')\n",
    "        {\n",
    "            'CharCode': 'EUR',\n",
    "            'ID': 'R01239',\n",
    "            'Name': 'Евро',\n",
    "            'Nominal': 1,\n",
    "            'NumCode': '978',\n",
    "            'Previous': 79.6765,\n",
    "            'Value': 79.4966\n",
    "        }\n",
    "        \n",
    "        Rate('value').make_format('EUR')\n",
    "        79.4966\n",
    "        \"\"\"\n",
    "        response = self.exchange_rates()\n",
    "        \n",
    "        if currency in response:\n",
    "            if self.format == 'full':\n",
    "                return response[currency]\n",
    "            \n",
    "            if self.format == 'value':\n",
    "                return response[currency]['Value']\n",
    "        \n",
    "        return 'Error'\n",
    "    \n",
    "    def eur(self):\n",
    "        \"\"\"\n",
    "        Возвращает полную информацию о валюте в формате self.format = 'full' или \n",
    "        разницу между текущим и предыдущим значениями курса, если self.format = 'value'\n",
    "        \n",
    "        \"\"\"\n",
    "        self.format = 'full'\n",
    "        eur_info = self.make_format('EUR')\n",
    "        if self.diff == True:\n",
    "            eur_diff = eur_info['Value'] - eur_info['Previous']\n",
    "            self.format = 'value'\n",
    "            return eur_diff\n",
    "        return eur_info       \n",
    "    \n",
    "    def usd(self):\n",
    "        \"\"\"\n",
    "        Возвращает полную информацию о валюте в формате self.format = 'full' или \n",
    "        разницу между текущим и предыдущим значениями курса, если self.format = 'value'\n",
    "        \"\"\"\n",
    "        self.format = 'full'\n",
    "        usd_info = self.make_format('USD')\n",
    "        if self.diff == True:\n",
    "            usd_diff = usd_info['Value'] - usd_info['Previous']\n",
    "            self.format = 'value'\n",
    "            return usd_diff\n",
    "        return usd_info\n",
    "\n",
    "    def AZN(self):\n",
    "        \"\"\"Возвращает курс азербайджанского маната на сегодня в формате self.format\"\"\"\n",
    "        return self.make_format('AZN')"
   ]
  },
  {
   "cell_type": "code",
   "execution_count": 81,
   "metadata": {},
   "outputs": [
    {
     "name": "stdout",
     "output_type": "stream",
     "text": [
      "{'ID': 'R01239', 'NumCode': '978', 'CharCode': 'EUR', 'Nominal': 1, 'Name': 'Евро', 'Value': 80.2528, 'Previous': 81.1468}\n",
      "{'ID': 'R01235', 'NumCode': '840', 'CharCode': 'USD', 'Nominal': 1, 'Name': 'Доллар США', 'Value': 74.7163, 'Previous': 75.129}\n",
      "{'ID': 'R01020A', 'NumCode': '944', 'CharCode': 'AZN', 'Nominal': 1, 'Name': 'Азербайджанский манат', 'Value': 44.0414, 'Previous': 44.2847}\n"
     ]
    }
   ],
   "source": [
    "r = Rate(format_='full')\n",
    "print(r.eur()) #Возвращает полную информацию о валюте\n",
    "print(r.usd()) #Возвращает полную информацию о валюте\n",
    "print(r.AZN()) #Возвращает полную информацию о валюте"
   ]
  },
  {
   "cell_type": "code",
   "execution_count": 82,
   "metadata": {},
   "outputs": [
    {
     "name": "stdout",
     "output_type": "stream",
     "text": [
      "-0.8940000000000055\n",
      "-0.41270000000000095\n",
      "44.0414\n"
     ]
    }
   ],
   "source": [
    "r = Rate()\n",
    "print(r.eur()) #Возвращает разницу текущего и предыдущего курсов\n",
    "print(r.usd()) #Возвращает разницу текущего и предыдущего курсов\n",
    "print(r.AZN()) #Возвращает текущий курс"
   ]
  },
  {
   "cell_type": "markdown",
   "metadata": {},
   "source": [
    "## Задание 3\n",
    "Напишите класс Designer, который учитывает количество международных премий для дизайнеров (из презентации: \"Повышение на 1 грейд за каждые 7 баллов. Получение международной премии – это +2 балла\"). Считайте, что при выходе на работу сотрудник уже имеет две премии и их количество не меняется со стажем (конечно если хотите это можно вручную менять). Выполните проверку для 20 аккредитаций дизайнера Елены."
   ]
  },
  {
   "cell_type": "code",
   "execution_count": 8,
   "metadata": {},
   "outputs": [],
   "source": [
    "class Employee:\n",
    "    def __init__(self, name, seniority):\n",
    "        self.name = name\n",
    "        self.seniority = seniority  \n",
    "        self.grade = 1\n",
    "    \n",
    "    def grade_up(self):\n",
    "        \"\"\"Повышает уровень сотрудника\"\"\"\n",
    "        print(f'{self.name}, поздравляем! Вы повышены!')\n",
    "        self.grade += 1\n",
    "    \n",
    "    def publish_grade(self):\n",
    "        \"\"\"Публикация результатов аккредитации сотрудников\"\"\"\n",
    "        print(self.name, self.grade)"
   ]
  },
  {
   "cell_type": "code",
   "execution_count": 9,
   "metadata": {},
   "outputs": [],
   "source": [
    "class Designer(Employee):\n",
    "    def __init__(self, name, seniority, awards=2):\n",
    "        super().__init__(name, seniority=2*awards)\n",
    "    \n",
    "    def check_if_it_is_time_for_upgrade(self):\n",
    "        self.seniority += 1\n",
    "        if self.seniority % 7 == 0:\n",
    "            self.grade_up()\n",
    "        return self.publish_grade()"
   ]
  },
  {
   "cell_type": "code",
   "execution_count": 10,
   "metadata": {},
   "outputs": [],
   "source": [
    "elena = Designer('Елена', seniority=0, awards=2)"
   ]
  },
  {
   "cell_type": "code",
   "execution_count": 11,
   "metadata": {},
   "outputs": [
    {
     "name": "stdout",
     "output_type": "stream",
     "text": [
      "Елена 1\n",
      "Елена 1\n",
      "Елена, поздравляем! Вы повышены!\n",
      "Елена 2\n",
      "Елена 2\n",
      "Елена 2\n",
      "Елена 2\n",
      "Елена 2\n",
      "Елена 2\n",
      "Елена 2\n",
      "Елена, поздравляем! Вы повышены!\n",
      "Елена 3\n",
      "Елена 3\n",
      "Елена 3\n",
      "Елена 3\n",
      "Елена 3\n",
      "Елена 3\n",
      "Елена 3\n",
      "Елена, поздравляем! Вы повышены!\n",
      "Елена 4\n",
      "Елена 4\n",
      "Елена 4\n",
      "Елена 4\n"
     ]
    }
   ],
   "source": [
    "for i in range(20):\n",
    "    elena.check_if_it_is_time_for_upgrade()"
   ]
  },
  {
   "cell_type": "code",
   "execution_count": null,
   "metadata": {},
   "outputs": [],
   "source": []
  }
 ],
 "metadata": {
  "kernelspec": {
   "display_name": "Python 3",
   "language": "python",
   "name": "python3"
  },
  "language_info": {
   "codemirror_mode": {
    "name": "ipython",
    "version": 3
   },
   "file_extension": ".py",
   "mimetype": "text/x-python",
   "name": "python",
   "nbconvert_exporter": "python",
   "pygments_lexer": "ipython3",
   "version": "3.7.6"
  }
 },
 "nbformat": 4,
 "nbformat_minor": 4
}
