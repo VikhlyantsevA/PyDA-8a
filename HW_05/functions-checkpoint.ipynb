{
 "cells": [
  {
   "cell_type": "markdown",
   "metadata": {},
   "source": [
    "Вы работаете секретарем и вам постоянно приходят различные документы. Вы должны быть очень внимательны, чтобы не потерять ни один документ. Каталог документов хранится в следующем виде:"
   ]
  },
  {
   "cell_type": "code",
   "execution_count": 2,
   "metadata": {},
   "outputs": [],
   "source": [
    "documents = [\n",
    "    {'type': 'passport', 'number': '2207 876234', 'name': 'Василий Гупкин'},\n",
    "    {'type': 'invoice', 'number': '11-2', 'name': 'Геннадий Покемонов'},\n",
    "    {'type': 'insurance', 'number': '10006', 'name': 'Аристарх Павлов'}\n",
    "]"
   ]
  },
  {
   "cell_type": "markdown",
   "metadata": {},
   "source": [
    "Перечень полок, на которых находятся документы хранится в следующем виде:"
   ]
  },
  {
   "cell_type": "code",
   "execution_count": 3,
   "metadata": {},
   "outputs": [],
   "source": [
    "directories = {\n",
    "    '1': ['2207 876234', '11-2'],\n",
    "    '2': ['10006'],\n",
    "    '3': []\n",
    "}"
   ]
  },
  {
   "cell_type": "markdown",
   "metadata": {},
   "source": [
    "Необходимо реализовать пользовательские команды (внимание! это не название функций, которые должны быть выразительными, а команды, которые вводит пользователь, чтобы получить необходимый результат):\n",
    "  \n",
    "- p – people – команда, которая спросит номер документа и выведет имя человека, которому он принадлежит;  \n",
    "- s – shelf – команда, которая спросит номер документа и выведет номер полки, на которой он находится  \n",
    "Правильно обработайте ситуацию, когда пользователь будет вводить несуществующий документ.\n",
    "- l – list – команда, которая выведет список всех документов в формате   \n",
    "**passport \"2207 876234\" \"Василий Гупкин\"**  \n",
    "- as – add shelf – команда, которая спросит номер новой полки и добавит ее в перечень\n",
    "- d – delete – команда, которая спросит номер документа и удалит его из каталога и из перечня полок. Предусмотрите сценарий, когда пользователь вводит несуществующий документ;  \n",
    "- m – move – команда, которая спросит номер документа и целевую полку и переместит его с текущей полки на целевую. Корректно обработайте кейсы, когда пользователь пытается переместить несуществующий документ или переместить документ на несуществующую полку;  \n",
    "- a – add – команда, которая добавит новый документ в каталог и в перечень полок, спросив его номер, тип, имя владельца и номер полки, на котором он будет храниться."
   ]
  },
  {
   "cell_type": "code",
   "execution_count": 4,
   "metadata": {},
   "outputs": [
    {
     "name": "stdout",
     "output_type": "stream",
     "text": [
      "Введите команду (или \"h\" чтобы вывести перечень всех доступных команд):l\n",
      "passport \"2207 876234\" \"Василий Гупкин\"\n",
      "invoice \"11-2\" \"Геннадий Покемонов\"\n",
      "insurance \"10006\" \"Аристарх Павлов\"\n",
      "Введите команду (или \"h\" чтобы вывести перечень всех доступных команд):a\n",
      "Введите номер документа:123456\n",
      "Документа с таким номером не обнаружено в каталоге.\n",
      "Введите номер полки:2\n",
      "Введите тип документа:passport\n",
      "Введите имя владельца документа:Анастасия Смирнова\n",
      "Введите команду (или \"h\" чтобы вывести перечень всех доступных команд):з\n",
      "Такой команды не существует.\n",
      "Введите команду (или \"h\" чтобы вывести перечень всех доступных команд):p\n",
      "Введите номер документа:123456\n",
      "Анастасия Смирнова\n",
      "Введите команду (или \"h\" чтобы вывести перечень всех доступных команд):s\n",
      "Введите номер документа:123456\n",
      "Полка № 2\n",
      "Введите команду (или \"h\" чтобы вывести перечень всех доступных команд):d\n",
      "Введите номер документа:123456\n",
      "Документ №123456 был удалён.\n",
      "Введите команду (или \"h\" чтобы вывести перечень всех доступных команд):l\n",
      "passport \"2207 876234\" \"Василий Гупкин\"\n",
      "invoice \"11-2\" \"Геннадий Покемонов\"\n",
      "insurance \"10006\" \"Аристарх Павлов\"\n",
      "Введите команду (или \"h\" чтобы вывести перечень всех доступных команд):q\n",
      "Работа завершена\n"
     ]
    }
   ],
   "source": [
    "def find_doc():\n",
    "    doc_number = input('Введите номер документа:')\n",
    "    for shelf, shelf_doc_numbers in directories.items():\n",
    "        if doc_number in shelf_doc_numbers:\n",
    "            find_or_not = True\n",
    "            directories_key = shelf\n",
    "            for i in range(len(documents)):\n",
    "                if doc_number in documents[i]['number']:\n",
    "                    documents_index = i\n",
    "                    return find_or_not, directories_key, documents_index, doc_number\n",
    "    print('Документа с таким номером не обнаружено в каталоге.')\n",
    "    find_or_not = False\n",
    "    directories_key = None\n",
    "    documents_index = None\n",
    "    return find_or_not, directories_key, documents_index, doc_number\n",
    "\n",
    "def find_shelf(shelf_number):\n",
    "    if shelf_number not in directories:\n",
    "        print('Такой полки нет. Создайте её с использованием команды \"a_s\".')\n",
    "        return False\n",
    "    return True\n",
    "\n",
    "def h():\n",
    "    print('''\n",
    "    h - выводит список всех доступных команд.\n",
    "    \n",
    "    p – выводит имя владельца документа. Необходимо ввести номер документа.\n",
    "\n",
    "    s – выводит номер полки на которой находится документ. Необходимо ввести номер документа.\n",
    "\n",
    "    l – выведет список всех документов в формате ['Тип документа', 'Номер документа', 'Имя владельца документа'].\n",
    "\n",
    "    a_s - создаёт новую полку.\n",
    "\n",
    "    d – удаляет документ из каталога и из содержимого полок. Необходимо ввести номер документа.\n",
    "\n",
    "    m – перемещает документ на уже существующую полку. Необходимо ввести номер документа и полки.\n",
    "\n",
    "    a – добавляет новый документ в каталог и в содержимое полок. Необходимо ввести номер и \n",
    "    тип документа, имя владельца и номер полки, на котором он будет храниться.\n",
    "\n",
    "    q - завершение работы с библиотекой документов.''')\n",
    "    return\n",
    "\n",
    "def p():\n",
    "    find_or_not, *other = find_doc()\n",
    "    if find_or_not == True:\n",
    "        documents_index = other[1]\n",
    "        print(documents[documents_index]['name'])\n",
    "\n",
    "def s():\n",
    "    find_or_not, *other = find_doc()\n",
    "    if find_or_not == True:\n",
    "        directories_key = other[0]\n",
    "        print(f'Полка № {directories_key}')\n",
    "\n",
    "def l():\n",
    "    for element in documents: \n",
    "        print(f\"{element['type']} \\\"{element['number']}\\\" \\\"{element['name']}\\\"\")\n",
    "\n",
    "def a_s():\n",
    "    shelf_number = input('Введите номер полки:')\n",
    "    directories.setdefault(shelf_number,[])\n",
    "    \n",
    "def d():\n",
    "    find_or_not, *other = find_doc()\n",
    "    if find_or_not == True:\n",
    "        directories_key, documents_index, doc_number = other\n",
    "        directories[directories_key].remove(doc_number)\n",
    "        del documents[documents_index]\n",
    "        print(f\"Документ №{doc_number} был удалён.\")\n",
    "\n",
    "def m():\n",
    "    shelf_number = input('Введите номер полки:')\n",
    "    if find_shelf(shelf_number) == True:\n",
    "        find_or_not, *other = find_doc()\n",
    "        if find_or_not == True:\n",
    "            directories_key, documents_index, doc_number = other\n",
    "            if directories_key == shelf_number:\n",
    "                print(f'Перемещение невозможно. Документ уже находится на полке №{shelf_number}')\n",
    "            else:\n",
    "                directories[directories_key].remove(doc_number)\n",
    "                directories[shelf_number].append(doc_number)\n",
    "                print(f\"Документ №{doc_number} был перемещён с полки №{directories_key} на полку №{shelf_number}.\")               \n",
    "                \n",
    "def a():\n",
    "    find_or_not, *other = find_doc()\n",
    "    if find_or_not == True:\n",
    "        print('Документ с таким номером уже существует в каталоге.')\n",
    "    else:\n",
    "        doc_number = other[-1]\n",
    "        shelf_number = input('Введите номер полки:')\n",
    "        if find_shelf(shelf_number) == True:\n",
    "            doc_type = input('Введите тип документа:')\n",
    "            doc_name = input('Введите имя владельца документа:')\n",
    "            doc = {'type': doc_type, 'number': doc_number, 'name': doc_name}\n",
    "            documents.append(doc)\n",
    "            directories[shelf_number].append(doc_number)\n",
    "            \n",
    "def doc_lib_modifocation():\n",
    "    while True:\n",
    "        command_list = ['h', 'p', 's', 'l', 'a_s', 'd', 'm', 'a', 'q']\n",
    "        command = input('Введите команду (или \"h\" чтобы вывести перечень всех доступных команд):')\n",
    "        if command in command_list:\n",
    "            if command == 'q':\n",
    "                print('Работа завершена')\n",
    "                break\n",
    "            else:\n",
    "                eval(command)()\n",
    "        else:\n",
    "            print('Такой команды не существует.')\n",
    "\n",
    "doc_lib_modifocation()"
   ]
  },
  {
   "cell_type": "code",
   "execution_count": 5,
   "metadata": {},
   "outputs": [
    {
     "name": "stdout",
     "output_type": "stream",
     "text": [
      "{'1': ['2207 876234', '11-2'], '2': ['10006'], '3': []}\n"
     ]
    }
   ],
   "source": [
    "print(directories)"
   ]
  },
  {
   "cell_type": "code",
   "execution_count": null,
   "metadata": {},
   "outputs": [],
   "source": []
  }
 ],
 "metadata": {
  "kernelspec": {
   "display_name": "Python 3",
   "language": "python",
   "name": "python3"
  },
  "language_info": {
   "codemirror_mode": {
    "name": "ipython",
    "version": 3
   },
   "file_extension": ".py",
   "mimetype": "text/x-python",
   "name": "python",
   "nbconvert_exporter": "python",
   "pygments_lexer": "ipython3",
   "version": "3.7.6"
  }
 },
 "nbformat": 4,
 "nbformat_minor": 2
}
