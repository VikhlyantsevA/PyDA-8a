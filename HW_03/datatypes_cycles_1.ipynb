{
 "cells": [
  {
   "cell_type": "markdown",
   "metadata": {},
   "source": [
    "**Задача 1**. Дано слово из латинских букв. Напишите скрипт, который выводит на экран букву из середины слова (если число букв нечетное). Если букв четное число, то на экран выводятся две буквы из середины.  \n",
    "\n",
    "Пример: для 'test' должно выводится 'es', для 'testing' - 't'"
   ]
  },
  {
   "cell_type": "code",
   "execution_count": 4,
   "metadata": {},
   "outputs": [
    {
     "name": "stdout",
     "output_type": "stream",
     "text": [
      "Введите слово: testing\n",
      "Срез слова: t\n"
     ]
    }
   ],
   "source": [
    "word=input('Введите слово: ')\n",
    "if len(word)%2==0:\n",
    "    print('Срез слова: ' + word[int(len(word) / 2-1):int(len(word) / 2+1)])\n",
    "else:\n",
    "    print('Срез слова: ' + word[len(word) // 2])"
   ]
  },
  {
   "cell_type": "markdown",
   "metadata": {},
   "source": [
    "**Задача 2**. Мы делаем MVP dating-сервиса, и у нас есть список парней и девушек (их число может варьироваться):"
   ]
  },
  {
   "cell_type": "code",
   "execution_count": 5,
   "metadata": {},
   "outputs": [],
   "source": [
    "boys = ['Peter', 'Alex', 'John', 'Arthur', 'Richard']\n",
    "girls = ['Kate', 'Liza', 'Kira', 'Emma', 'Trisha']"
   ]
  },
  {
   "cell_type": "markdown",
   "metadata": {},
   "source": [
    "Выдвигаем гипотезу: лучшие рекомендации мы получим, если просто отсортируем имена по алфавиту и познакомим людей с одинаковыми индексами после сортировки! \"Познакомить\" пары нам поможет функция zip, а в цикле распакуем zip-объект и выведем информацию в виде:\n",
    "\n",
    "Идеальные пары:  \n",
    "Alex и Emma  \n",
    "Arthur и Kate  \n",
    "John и Kira  \n",
    "Peter и Liza  \n",
    "Richard и Trisha  "
   ]
  },
  {
   "cell_type": "markdown",
   "metadata": {},
   "source": [
    "**Внимание! Если количество людей в списках будет не совпадать, то мы никого знакомить не будем и выведем пользователю предупреждение, что кто-то может остаться без пары!**"
   ]
  },
  {
   "cell_type": "code",
   "execution_count": 6,
   "metadata": {},
   "outputs": [
    {
     "name": "stdout",
     "output_type": "stream",
     "text": [
      "Идеальные пары:\n",
      "Alex и Emma\n",
      "Arthur и Kate\n",
      "John и Kira\n",
      "Peter и Liza\n",
      "Richard и Trisha\n"
     ]
    }
   ],
   "source": [
    "if len(boys) != len(girls):\n",
    "    print('Количество людей в списках не равно. Кто-то может остаться без пары.')\n",
    "else:\n",
    "    pares = zip(sorted(boys), sorted(girls))\n",
    "    print('Идеальные пары:')\n",
    "    for element in pares:\n",
    "        print(' и '.join(element))"
   ]
  },
  {
   "cell_type": "markdown",
   "metadata": {},
   "source": [
    "**Задача 3**. У нас есть список, содержащий информацию о среднедневной температуре в Фаренгейтах за недельный период по странам.\n",
    "Необходимо написать код, который рассчитает среднюю температуру за неделю в Цельсиях для каждой страны."
   ]
  },
  {
   "cell_type": "code",
   "execution_count": 7,
   "metadata": {},
   "outputs": [
    {
     "name": "stdout",
     "output_type": "stream",
     "text": [
      "{'country': 'Thailand', 'temperature': [24.0, 25.0, 26.0, 23.0, 20.0, 24.0, 25.0]}\n",
      "{'country': 'Germany', 'temperature': [14.0, 13.0, 15.0, 15.0, 12.0, 13.0, 14.0]}\n",
      "{'country': 'Russia', 'temperature': [2.0, 3.0, 4.0, 5.0, 6.0, 4.0, 2.0]}\n",
      "{'country': 'Poland', 'temperature': [10.0, 10.0, 12.0, 14.0, 13.0, 13.0, 11.0]}\n"
     ]
    }
   ],
   "source": [
    "countries_temperature = [\n",
    " ['Thailand', [75.2, 77, 78.8, 73.4, 68, 75.2, 77]],\n",
    " ['Germany', [57.2, 55.4, 59, 59, 53.6, 55.4, 57.2]],\n",
    " ['Russia', [35.6, 37.4, 39.2, 41, 42.8, 39.2, 35.6]],\n",
    " ['Poland', [50, 50, 53.6, 57.2, 55.4, 55.4, 51.8]]\n",
    "]\n",
    "countries_temperature_new_list = []\n",
    "keys = ['country', 'temperature']\n",
    "\n",
    "for element in countries_temperature:\n",
    "    i = countries_temperature.index(element) \n",
    "    # i - is an index of element in \"countries_temperature\" array and \"countries_temperature_new_list\"\n",
    "    countries_temperature_new_list.append(dict(zip(keys, element)))\n",
    "    for j in range(len(countries_temperature_new_list[i]['temperature'])): \n",
    "    # j - is an index of temperature array: countries_temperature_new_list[i]['temperature'].value\n",
    "        countries_temperature_new_list[i]['temperature'][j] = round((countries_temperature_new_list[i]['temperature'][j]-32)*5/9,2)\n",
    "\n",
    "for element in countries_temperature_new_list:\n",
    "    print(element)"
   ]
  },
  {
   "cell_type": "markdown",
   "metadata": {},
   "source": [
    "**Задача 4.** Дан поток логов по количеству просмотренных страниц для каждого пользователя. Список отсортирован по ID пользователя. Вам необходимо написать алгоритм, который считает среднее значение просмотров на пользователя. \n",
    "Т. е. надо посчитать отношение суммы всех просмотров к количеству уникальных пользователей."
   ]
  },
  {
   "cell_type": "code",
   "execution_count": 10,
   "metadata": {},
   "outputs": [
    {
     "name": "stdout",
     "output_type": "stream",
     "text": [
      "{'user_name': 'user1', 'number_of_visits': 21}\n",
      "{'user_name': 'user2', 'number_of_visits': 7}\n",
      "{'user_name': 'user3', 'number_of_visits': 14}\n",
      "{'user_name': 'user4', 'number_of_visits': 51}\n",
      "Website impact = 23.25\n"
     ]
    }
   ],
   "source": [
    "stream = [\n",
    "    '2018-01-01,user1,3',\n",
    "    '2018-01-07,user1,4',\n",
    "    '2018-03-29,user1,1',\n",
    "    '2018-04-04,user1,13',\n",
    "    '2018-01-05,user2,7',\n",
    "    '2018-06-14,user3,4',\n",
    "    '2018-07-02,user3,10',\n",
    "    '2018-03-21,user4,19',\n",
    "    '2018-03-22,user4,4',\n",
    "    '2018-04-22,user4,8',\n",
    "    '2018-05-03,user4,9',\n",
    "    '2018-05-11,user4,11',\n",
    "]\n",
    "new_list = {}\n",
    "keys = ['user_name', 'number_of_visits']\n",
    "sum_visits = 0\n",
    "website_impact = 0\n",
    "\n",
    "for element in stream:\n",
    "    new_list_element=dict(zip(keys, element.split(',')[1:]))\n",
    "    new_list_element['number_of_visits']=int(new_list_element['number_of_visits'])\n",
    "    if new_list_element['user_name'] not in new_list:\n",
    "        new_list[new_list_element['user_name']] = new_list_element\n",
    "    else:\n",
    "        new_list[new_list_element['user_name']]['number_of_visits'] += new_list_element['number_of_visits']\n",
    "\n",
    "for new_list_element in new_list.values():\n",
    "    print(new_list_element)\n",
    "    sum_visits += new_list_element['number_of_visits']\n",
    "website_impact = sum_visits / len(new_list)\n",
    "print(f'Website impact = {website_impact}')"
   ]
  },
  {
   "cell_type": "markdown",
   "metadata": {},
   "source": [
    "**Задача 5**. Дана статистика рекламных кампаний по дням. Напишите алгоритм, который по паре дата-кампания ищет значение численного столбца. \n",
    "Т. е. для даты '2018-01-01' и 'google' нужно получить число 25. \n",
    "Считайте, что все комбинации дата-кампания уникальны."
   ]
  },
  {
   "cell_type": "code",
   "execution_count": 11,
   "metadata": {},
   "outputs": [
    {
     "name": "stdout",
     "output_type": "stream",
     "text": [
      "Введите дату за которую нужно вывести статистику: 2018-01-02\n",
      "Введите компанию по которой нужно вывести статистику: yandex\n",
      "Данные найдены. 2018-01-02 yandex - 249\n"
     ]
    }
   ],
   "source": [
    "stats = [\n",
    "    ['2018-01-01', 'google', 25],\n",
    "    ['2018-01-01', 'yandex', 65],\n",
    "    ['2018-01-01', 'market', 89],\n",
    "    ['2018-01-02', 'google', 574],\n",
    "    ['2018-01-02', 'yandex', 249],\n",
    "    ['2018-01-02', 'market', 994],\n",
    "    ['2018-01-03', 'google', 1843],\n",
    "    ['2018-01-03', 'yandex', 1327],\n",
    "    ['2018-01-03', 'market', 1764],\n",
    "]\n",
    "keys = ['date', 'company', 'indicator']\n",
    "new_list = []\n",
    "for element in stats:\n",
    "    new_list.append(dict(zip(keys, element)))\n",
    "\n",
    "date = input('Введите дату за которую нужно вывести статистику: ')\n",
    "company = input('Введите компанию по которой нужно вывести статистику: ')\n",
    "\n",
    "for new_list_element in new_list:\n",
    "    if (date == new_list_element['date']) and (company == new_list_element['company']):\n",
    "        print(f\"Данные найдены. {new_list_element['date']} {new_list_element['company']} - {new_list_element['indicator']}\")\n",
    "        break\n",
    "    else:\n",
    "        if new_list.index(new_list_element) == len(new_list) - 1:\n",
    "            print('Данные не найдены.')"
   ]
  },
  {
   "cell_type": "markdown",
   "metadata": {},
   "source": [
    "**Задача 6**. Дан список вида:"
   ]
  },
  {
   "cell_type": "code",
   "execution_count": 12,
   "metadata": {},
   "outputs": [],
   "source": [
    "data = [\n",
    "    [13, 25, 23, 34],\n",
    "    [45, 32, 44, 47],\n",
    "    [12, 33, 23, 95],\n",
    "    [13, 53, 34, 35]\n",
    "]"
   ]
  },
  {
   "cell_type": "markdown",
   "metadata": {},
   "source": [
    "Напишите код, который будет вычислять сумму элементов на диагонали. Т. е. 13+32+23+35.  \n",
    "Список может быть любой длины, но всегда является \"квадратным\" (количество элементов во вложенных списках равно их количеству)."
   ]
  },
  {
   "cell_type": "code",
   "execution_count": 13,
   "metadata": {},
   "outputs": [
    {
     "name": "stdout",
     "output_type": "stream",
     "text": [
      "Сумма элементов диагонали матрицы sum = 103\n"
     ]
    }
   ],
   "source": [
    "array_size = len(data)\n",
    "sum = 0\n",
    "for i in range(array_size):\n",
    "    sum += data[i][i]\n",
    "print(f'Сумма элементов диагонали матрицы sum = {sum}')"
   ]
  },
  {
   "cell_type": "code",
   "execution_count": null,
   "metadata": {},
   "outputs": [],
   "source": []
  }
 ],
 "metadata": {
  "kernelspec": {
   "display_name": "Python 3",
   "language": "python",
   "name": "python3"
  },
  "language_info": {
   "codemirror_mode": {
    "name": "ipython",
    "version": 3
   },
   "file_extension": ".py",
   "mimetype": "text/x-python",
   "name": "python",
   "nbconvert_exporter": "python",
   "pygments_lexer": "ipython3",
   "version": "3.7.6"
  }
 },
 "nbformat": 4,
 "nbformat_minor": 2
}
